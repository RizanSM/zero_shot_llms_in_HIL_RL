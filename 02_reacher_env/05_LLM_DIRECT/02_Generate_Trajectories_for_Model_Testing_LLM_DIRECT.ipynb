{
  "cells": [
    {
      "cell_type": "markdown",
      "metadata": {
        "id": "view-in-github",
        "colab_type": "text"
      },
      "source": [
        "<a href=\"https://colab.research.google.com/github/RizanSM/zero_shot_llms_in_HIL_RL/blob/main/02_reacher_env/05_LLM_DIRECT/02_Generate_Trajectories_for_Model_Testing_LLM_DIRECT.ipynb\" target=\"_parent\"><img src=\"https://colab.research.google.com/assets/colab-badge.svg\" alt=\"Open In Colab\"/></a>"
      ]
    },
    {
      "cell_type": "code",
      "execution_count": null,
      "metadata": {
        "id": "OuwmGGRJrPVF"
      },
      "outputs": [],
      "source": [
        "# Install the required libraries in your Google Colab environment\n",
        "!pip install gymnasium[mujoco] mujoco stable-baselines3 -q"
      ]
    },
    {
      "cell_type": "code",
      "execution_count": null,
      "metadata": {
        "id": "VZhaXFBUrfBS"
      },
      "outputs": [],
      "source": [
        "# Import the necessary libraries\n",
        "import gymnasium as gym\n",
        "import numpy as np\n",
        "import pandas as pd\n",
        "import pickle\n",
        "import os\n",
        "import matplotlib.pyplot as plt"
      ]
    },
    {
      "cell_type": "code",
      "execution_count": null,
      "metadata": {
        "id": "BP5KACM8rlKX"
      },
      "outputs": [],
      "source": [
        "# THE ENVIRONMENT\n",
        "# Step 1.1: Choose the Environment\n",
        "# Initialize the environment.\n",
        "env = gym.make('Reacher-v5')"
      ]
    },
    {
      "cell_type": "code",
      "execution_count": null,
      "metadata": {
        "id": "oilpd3dOz8r_"
      },
      "outputs": [],
      "source": [
        "from stable_baselines3 import PPO\n",
        "from google.colab import drive\n",
        "from google.colab import data_table\n",
        "\n",
        "# Mount Google Drive\n",
        "drive.mount('/content/drive')"
      ]
    },
    {
      "cell_type": "code",
      "execution_count": null,
      "metadata": {
        "id": "fnHpE3hDaNom"
      },
      "outputs": [],
      "source": [
        "# Step A.6.2: Load the all the saved PPO model\n",
        "model = PPO.load('/content/drive/MyDrive/data3_rp1/1_trained_models/4_ppo_reacher_llmf_8')           # Update directory location 1"
      ]
    },
    {
      "cell_type": "markdown",
      "metadata": {
        "id": "8eJ7IUv5j7iS"
      },
      "source": [
        "Trajectory Collection"
      ]
    },
    {
      "cell_type": "code",
      "source": [
        "def generate_reacher_trajectories(env, model, num_episodes,seed):\n",
        "    \"\"\"\n",
        "    Generates trajectories for the Reacher-v5 environment.\n",
        "\n",
        "    Parameters:\n",
        "        env (gym.Env): The wrapped Gymnasium environment.\n",
        "        model (stable_baselines3.PPO): The trained PPO model.\n",
        "        num_episodes (int): Number of episodes to run.\n",
        "\n",
        "    Returns:\n",
        "        pd.DataFrame: A DataFrame containing trajectory data.\n",
        "    \"\"\"\n",
        "    trajectory_data = []\n",
        "\n",
        "    for episode in range(num_episodes):\n",
        "        state, _ = env.reset(seed=seed)\n",
        "        timestep = 0\n",
        "        done = False\n",
        "\n",
        "        while not done:\n",
        "            # Get action from the trained PPO model\n",
        "            action, _ = model.predict(state, deterministic = True)\n",
        "\n",
        "            next_state, reward, terminated, truncated, info = env.step(action)\n",
        "\n",
        "            # Store the transition\n",
        "            trajectory_data.append({\n",
        "                \"Episode\": episode + 1,\n",
        "                \"Timestep\": timestep,\n",
        "                \"State\": state,\n",
        "                \"Action\": action,\n",
        "                \"Reward\": reward,\n",
        "                \"Next State\": next_state\n",
        "            })\n",
        "\n",
        "            # Update state and timestep\n",
        "            state = next_state\n",
        "            timestep += 1\n",
        "            done = terminated or truncated\n",
        "\n",
        "    return pd.DataFrame(trajectory_data)"
      ],
      "metadata": {
        "id": "WCoPWduUICcu"
      },
      "execution_count": null,
      "outputs": []
    },
    {
      "cell_type": "markdown",
      "source": [
        "0. GENERATING TRAJECTORIES FOR TESTING (LLM FEEDBACK DIRECT)"
      ],
      "metadata": {
        "id": "qLgAKXgUWiEj"
      }
    },
    {
      "cell_type": "markdown",
      "source": [
        "First LLM feedback direct data frame"
      ],
      "metadata": {
        "id": "-n-_2c_tXDTG"
      }
    },
    {
      "cell_type": "code",
      "source": [
        "# Collect data for 100 episodes\n",
        "trajectory_df_1 = generate_reacher_trajectories(env, model, num_episodes=100,seed=2)"
      ],
      "metadata": {
        "id": "NtUE_W7-WhQj"
      },
      "execution_count": null,
      "outputs": []
    },
    {
      "cell_type": "code",
      "source": [
        "data_table.enable_dataframe_formatter()\n",
        "data_table.DataTable(trajectory_df_1)"
      ],
      "metadata": {
        "id": "uVd9HKPZWvnP"
      },
      "execution_count": null,
      "outputs": []
    },
    {
      "cell_type": "code",
      "source": [
        "# Save the dataframe as a pickle file\n",
        "trajectory_df_1.to_pickle('/content/drive/MyDrive/data3_rp1/3_test_trajectories/4_llm_d/1_llm_d_reacher_df_8.pkl')        # Update directory location 2\n"
      ],
      "metadata": {
        "id": "KlTviQ7LWvUr"
      },
      "execution_count": null,
      "outputs": []
    },
    {
      "cell_type": "markdown",
      "source": [
        "Second LLM feedback direct data frame\n"
      ],
      "metadata": {
        "id": "E6yiiseHg8Bh"
      }
    },
    {
      "cell_type": "code",
      "source": [
        "# Collect data for 100 episodes\n",
        "trajectory_df_2 = generate_reacher_trajectories(env, model, num_episodes=100,seed=10)"
      ],
      "metadata": {
        "id": "N6pxD621hOql"
      },
      "execution_count": null,
      "outputs": []
    },
    {
      "cell_type": "code",
      "source": [
        "data_table.enable_dataframe_formatter()\n",
        "data_table.DataTable(trajectory_df_2)"
      ],
      "metadata": {
        "id": "ga44R6BVhORd"
      },
      "execution_count": null,
      "outputs": []
    },
    {
      "cell_type": "code",
      "source": [
        "# Save the dataframe as a pickle file\n",
        "trajectory_df_2.to_pickle('/content/drive/MyDrive/data3_rp1/3_test_trajectories/4_llm_d/2_llm_d_reacher_df_8.pkl')       # Update directory location 3"
      ],
      "metadata": {
        "id": "-0ouJiqohOHO"
      },
      "execution_count": null,
      "outputs": []
    },
    {
      "cell_type": "markdown",
      "source": [
        "Third LLM feedback direct data frame"
      ],
      "metadata": {
        "id": "LNI1Q2aIhAXP"
      }
    },
    {
      "cell_type": "code",
      "source": [
        "# Collect data for 100 episodes\n",
        "trajectory_df_3 = generate_reacher_trajectories(env, model, num_episodes=100,seed=6)"
      ],
      "metadata": {
        "id": "eJe17vLxhP37"
      },
      "execution_count": null,
      "outputs": []
    },
    {
      "cell_type": "code",
      "source": [
        "data_table.enable_dataframe_formatter()\n",
        "data_table.DataTable(trajectory_df_3)"
      ],
      "metadata": {
        "id": "QvcIR1LAhPgi"
      },
      "execution_count": null,
      "outputs": []
    },
    {
      "cell_type": "code",
      "source": [
        "# Save the dataframe as a pickle file\n",
        "trajectory_df_3.to_pickle('/content/drive/MyDrive/data3_rp1/3_test_trajectories/4_llm_d/3_llm_d_reacher_df_8.pkl')        # Update directory location 4"
      ],
      "metadata": {
        "id": "3hYXf2kchPba"
      },
      "execution_count": null,
      "outputs": []
    },
    {
      "cell_type": "markdown",
      "source": [
        "Fourth LLM feedback direct data frame"
      ],
      "metadata": {
        "id": "O8UPT7E2hEw4"
      }
    },
    {
      "cell_type": "code",
      "source": [
        "# Collect data for 100 episodes\n",
        "trajectory_df_4 = generate_reacher_trajectories(env, model, num_episodes=100,seed=20)"
      ],
      "metadata": {
        "id": "XM_zO3mehROZ"
      },
      "execution_count": null,
      "outputs": []
    },
    {
      "cell_type": "code",
      "source": [
        "data_table.enable_dataframe_formatter()\n",
        "data_table.DataTable(trajectory_df_4)"
      ],
      "metadata": {
        "id": "sE0nYkpChQ6p"
      },
      "execution_count": null,
      "outputs": []
    },
    {
      "cell_type": "code",
      "source": [
        "# Save the dataframe as a pickle file\n",
        "trajectory_df_4.to_pickle('/content/drive/MyDrive/data3_rp1/3_test_trajectories/4_llm_d/4_llm_d_reacher_df_8.pkl')        # Update directory location 5"
      ],
      "metadata": {
        "id": "1qCe_JCNhQ22"
      },
      "execution_count": null,
      "outputs": []
    },
    {
      "cell_type": "markdown",
      "source": [
        "Fifth LLM feedback direct data frame"
      ],
      "metadata": {
        "id": "GK2JR89NhIeJ"
      }
    },
    {
      "cell_type": "code",
      "source": [
        "# Collect data for 100 episodes\n",
        "trajectory_df_5 = generate_reacher_trajectories(env, model, num_episodes=100,seed=34)"
      ],
      "metadata": {
        "id": "GeZXIUCDg7fA"
      },
      "execution_count": null,
      "outputs": []
    },
    {
      "cell_type": "code",
      "source": [
        "data_table.enable_dataframe_formatter()\n",
        "data_table.DataTable(trajectory_df_5)"
      ],
      "metadata": {
        "id": "A4dorT-ahSJ5"
      },
      "execution_count": null,
      "outputs": []
    },
    {
      "cell_type": "code",
      "source": [
        "# Save the dataframe as a pickle file\n",
        "trajectory_df_5.to_pickle('/content/drive/MyDrive/data3_rp1/3_test_trajectories/4_llm_d/5_llm_d_reacher_df_8.pkl')         # Update directory location 6"
      ],
      "metadata": {
        "id": "zXgtf5LXhSCc"
      },
      "execution_count": null,
      "outputs": []
    }
  ],
  "metadata": {
    "colab": {
      "provenance": [],
      "authorship_tag": "ABX9TyM+DMh+6FznvXKjlIgIk44g",
      "include_colab_link": true
    },
    "kernelspec": {
      "display_name": "Python 3",
      "name": "python3"
    },
    "language_info": {
      "name": "python"
    }
  },
  "nbformat": 4,
  "nbformat_minor": 0
}