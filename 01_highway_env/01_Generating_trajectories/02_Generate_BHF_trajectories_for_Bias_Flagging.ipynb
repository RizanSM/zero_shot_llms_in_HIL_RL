{
  "nbformat": 4,
  "nbformat_minor": 0,
  "metadata": {
    "colab": {
      "provenance": [],
      "authorship_tag": "ABX9TyM71NCJZnsRO1vGgAzaIAjW",
      "include_colab_link": true
    },
    "kernelspec": {
      "name": "python3",
      "display_name": "Python 3"
    },
    "language_info": {
      "name": "python"
    }
  },
  "cells": [
    {
      "cell_type": "markdown",
      "metadata": {
        "id": "view-in-github",
        "colab_type": "text"
      },
      "source": [
        "<a href=\"https://colab.research.google.com/github/RizanSM/zero_shot_llms_in_HIL_RL/blob/main/01_highway_env/01_Generating_trajectories/02_Generate_BHF_trajectories_for_Bias_Flagging.ipynb\" target=\"_parent\"><img src=\"https://colab.research.google.com/assets/colab-badge.svg\" alt=\"Open In Colab\"/></a>"
      ]
    },
    {
      "cell_type": "code",
      "source": [
        "# Install the required libraries in your Google Colab environment\n",
        "!pip install stable-baselines3 gymnasium highway-env -q"
      ],
      "metadata": {
        "id": "APrU5xhT0nTF"
      },
      "execution_count": null,
      "outputs": []
    },
    {
      "cell_type": "code",
      "source": [
        "# Import the necessary libraries\n",
        "import gymnasium as gym\n",
        "import highway_env\n",
        "import numpy as np\n",
        "import pandas as pd\n",
        "import pickle\n",
        "import os\n",
        "import matplotlib.pyplot as plt"
      ],
      "metadata": {
        "id": "SQJ0fTEA0m_G"
      },
      "execution_count": null,
      "outputs": []
    },
    {
      "cell_type": "code",
      "source": [
        "from stable_baselines3 import PPO\n",
        "from stable_baselines3.common.vec_env import DummyVecEnv\n",
        "from stable_baselines3.common.evaluation import evaluate_policy\n",
        "from google.colab import data_table\n",
        "from google.colab import drive\n",
        "\n",
        "# Mount Google Drive\n",
        "drive.mount('/content/drive')"
      ],
      "metadata": {
        "id": "go9u8BAE1Olz"
      },
      "execution_count": null,
      "outputs": []
    },
    {
      "cell_type": "code",
      "source": [
        "# Load the dataframe back from the pickle file\n",
        "trajectory_df = pd.read_pickle('/content/drive/MyDrive/data_rp1/2_trajectories/0_initial_training/0_initial_trajectory_df.pkl')"
      ],
      "metadata": {
        "id": "84qr9aP-nc0d"
      },
      "execution_count": null,
      "outputs": []
    },
    {
      "cell_type": "code",
      "source": [
        "# Display the data frame\n",
        "data_table.enable_dataframe_formatter()\n",
        "data_table.DataTable(trajectory_df)"
      ],
      "metadata": {
        "id": "MHAY3C2LxMel"
      },
      "execution_count": null,
      "outputs": []
    },
    {
      "cell_type": "code",
      "source": [
        "# Check the data type of each column\n",
        "print(type(trajectory_df['episode'][0]))\n",
        "print(type(trajectory_df['time_step'][0]))\n",
        "print(type(trajectory_df['state'][0]))\n",
        "print(type(trajectory_df['action'][0]))\n",
        "print(type(trajectory_df['reward'][0]))\n",
        "print(type(trajectory_df['next_state'][0]))\n",
        "print(type(trajectory_df['collision_flag'][0]))\n",
        "print(type(trajectory_df['lane_index'][0]))"
      ],
      "metadata": {
        "id": "BPFidEkGlZAC"
      },
      "execution_count": null,
      "outputs": []
    },
    {
      "cell_type": "code",
      "source": [
        "# trajectory_df.dtypes"
      ],
      "metadata": {
        "id": "NYe0lzD3XNwm"
      },
      "execution_count": null,
      "outputs": []
    },
    {
      "cell_type": "markdown",
      "source": [
        "A : HUMAN FEEDBACK IMPLEMENTATION (BIASED HUMAN FEEDBACK)\n",
        "*   SECTION A.1: FEEDBACK BASED ON LANE CHANGING BEHAVIOUR\n",
        "*   SECTION A.2: FEEDBACK BASED ON COLLISION AVOIDANCE MANUEVERS\n",
        "*   SECTION A.3: FEEDBACK BASED ON SPEED OPTIMIZATION\n",
        "*   SECTION A.4: REWARD MODELLING\n",
        "*   SECTION A.5: MODEL TRAINING\n"
      ],
      "metadata": {
        "id": "yK3Yd5Tt2_FU"
      }
    },
    {
      "cell_type": "markdown",
      "source": [
        "SECTION A.1: FEEDBACK BASED ON LANE CHANGING BEHAVIOUR\n",
        "*   Step A.1.1: FUNCTION TO COUNT LANE CHANGES\n",
        "*   Step A.1.2: FUNCTION TO PROVIDE FEEDBACK BASED ON LANE CHANGE\n"
      ],
      "metadata": {
        "id": "V1BC9xeLm_aS"
      }
    },
    {
      "cell_type": "code",
      "source": [
        "# Step A.1.1: FUNCTION TO COUNT LANE CHANGES\n",
        "def count_lane_changes(df):\n",
        "    df_copy = df.copy()\n",
        "    df_copy['count_lane_change'] = 0\n",
        "\n",
        "    # Group by episode\n",
        "    for episode_id, episode_df in df_copy.groupby('episode'):  # Group by 'episode'\n",
        "        idx = 0\n",
        "        while idx < len(episode_df):  # Iterate within each episode\n",
        "            current_lane_index = episode_df.iloc[idx]['lane_index']\n",
        "\n",
        "            if idx == 0:  # First timestep of the episode\n",
        "                episode_df.at[episode_df.index[idx], 'count_lane_change'] = 0 #  Use episode_df.index[idx]\n",
        "                idx += 1\n",
        "                continue\n",
        "\n",
        "            previous_lane_index = episode_df.iloc[idx - 1]['lane_index']\n",
        "\n",
        "            if current_lane_index == previous_lane_index:\n",
        "                episode_df.at[episode_df.index[idx], 'count_lane_change'] = 0 #  Use episode_df.index[idx]\n",
        "                idx += 1\n",
        "                continue\n",
        "\n",
        "            change = current_lane_index - previous_lane_index\n",
        "            count = 1\n",
        "            consecutive_indices = [idx]\n",
        "\n",
        "            lookahead_idx = idx + 1\n",
        "            while lookahead_idx < len(episode_df) and (episode_df.iloc[lookahead_idx]['lane_index'] - episode_df.iloc[lookahead_idx - 1]['lane_index'] == change):\n",
        "                count += 1\n",
        "                consecutive_indices.append(lookahead_idx)\n",
        "                lookahead_idx += 1\n",
        "\n",
        "            for i in consecutive_indices:\n",
        "                episode_df.at[episode_df.index[i], 'count_lane_change'] = count #  Use episode_df.index[i]\n",
        "\n",
        "            idx = lookahead_idx\n",
        "\n",
        "        df_copy.loc[episode_df.index, 'count_lane_change'] = episode_df['count_lane_change'].values # Update original df\n",
        "\n",
        "    return df_copy"
      ],
      "metadata": {
        "id": "l6ogHDaMcSXf"
      },
      "execution_count": null,
      "outputs": []
    },
    {
      "cell_type": "code",
      "source": [
        "# Call the function and save the updated dataframe as \"lane_feedback_df\"\n",
        "lane_feedback_df = count_lane_changes(trajectory_df)"
      ],
      "metadata": {
        "id": "ytNuI-8zdYHn"
      },
      "execution_count": null,
      "outputs": []
    },
    {
      "cell_type": "code",
      "source": [
        "data_table.enable_dataframe_formatter()\n",
        "data_table.DataTable(lane_feedback_df)"
      ],
      "metadata": {
        "id": "dclcOqjRdbKg"
      },
      "execution_count": null,
      "outputs": []
    },
    {
      "cell_type": "code",
      "source": [
        "# Step A.1.2: FUNCTION TO PROVIDE FEEDBACK BASED ON LANE CHANGE\n",
        "# Define the lane_change_behaviour function\n",
        "def lane_change_behaviour(df):\n",
        "    # Create a copy of the dataframe to avoid modifying the original one\n",
        "    df_copy = df.copy()\n",
        "\n",
        "    # Create 'Lane_feedback' and 'Lane_change_reward' columns\n",
        "    df_copy['Lane_feedback'] = \"\"\n",
        "    df_copy['Lane_change_score'] = 0\n",
        "    df_copy['Lane_change_score'] = df_copy['Lane_change_score'].astype(float)\n",
        "\n",
        "    # Iterate through the dataframe to apply the lane change behavior logic\n",
        "    for i, row in df_copy.iterrows():\n",
        "        lane_change_number = row['count_lane_change']\n",
        "\n",
        "        if lane_change_number == 0:\n",
        "            df_copy.at[i, 'Lane_feedback'] = \"No lane change is observed\"\n",
        "            df_copy.at[i, 'Lane_change_score'] = -2                                 # Bias value 1\n",
        "        elif lane_change_number == 1:\n",
        "            df_copy.at[i, 'Lane_feedback'] = \"One lane change is observed\"\n",
        "            df_copy.at[i, 'Lane_change_score'] = +1                                 # Bias value 2\n",
        "        elif lane_change_number == 2:\n",
        "            df_copy.at[i, 'Lane_feedback'] = \"Two lane change is observed\"\n",
        "            df_copy.at[i, 'Lane_change_score'] = +20                                 # Bias value 3 Misspecified reward\n",
        "        elif lane_change_number == 3:\n",
        "            df_copy.at[i, 'Lane_feedback'] = \"Three lane change is observed\"\n",
        "            df_copy.at[i, 'Lane_change_score'] = +2                                 # Bias value 4\n",
        "\n",
        "\n",
        "    # Return the updated dataframe\n",
        "    return df_copy"
      ],
      "metadata": {
        "id": "5VbJbsKqecVO"
      },
      "execution_count": null,
      "outputs": []
    },
    {
      "cell_type": "code",
      "source": [
        "# Apply the lane_change_behaviour function to the lane_feedback_df\n",
        "lane_behaviour_feedback_df = lane_change_behaviour(lane_feedback_df)"
      ],
      "metadata": {
        "id": "N_idiuM3exV_"
      },
      "execution_count": null,
      "outputs": []
    },
    {
      "cell_type": "code",
      "source": [
        "data_table.enable_dataframe_formatter()\n",
        "data_table.DataTable(lane_behaviour_feedback_df)"
      ],
      "metadata": {
        "id": "q4h9suvHesrz"
      },
      "execution_count": null,
      "outputs": []
    },
    {
      "cell_type": "markdown",
      "source": [
        "SECTION A.2: FEEDBACK BASED ON COLLISION AVOIDANCE MANUEVERS\n",
        "*   Step A.2.1: FUNCTION TO CALCULATE LANE CHANG\n",
        "*   Step A.2.2: FUNCTION TO CALCULATE TIME TO COLLISION(TTC)\n",
        "*   Step A.2.3: FUNCTION TO CALCULATE RELATIVE POSITION, RELATIVE VELOCITY AND TIME TO COLLISION\n",
        "*   Step A.2.4: FUNCTION TO IMPLEMENT COLLISION AVOIDANCE FEEDBACK"
      ],
      "metadata": {
        "id": "oINoG120nF9v"
      }
    },
    {
      "cell_type": "code",
      "source": [
        "def calculate_lane_changes(df):\n",
        "    df_copy = df.copy()\n",
        "    df_copy['Lane_change_collision_fb'] = 0\n",
        "\n",
        "    # Group by episode\n",
        "    for episode_id, episode_df in df_copy.groupby('episode'):  # Group by 'episode'\n",
        "        idx = 0\n",
        "        while idx < len(episode_df):  # Iterate within each episode\n",
        "            current_lane_index = episode_df.iloc[idx]['lane_index']\n",
        "\n",
        "            if idx == 0:  # First timestep of the episode\n",
        "                episode_df.at[episode_df.index[idx], 'Lane_change_collision_fb'] = 0 #  Use episode_df.index[idx]\n",
        "                idx += 1\n",
        "                continue\n",
        "\n",
        "            previous_lane_index = episode_df.iloc[idx - 1]['lane_index']\n",
        "\n",
        "            if current_lane_index != previous_lane_index:\n",
        "                episode_df.at[episode_df.index[idx], 'Lane_change_collision_fb'] = 1 #  Use episode_df.index[idx]\n",
        "                idx += 1\n",
        "                continue\n",
        "\n",
        "            else:\n",
        "                episode_df.at[episode_df.index[idx], 'Lane_change_collision_fb'] = 0 #  Use episode_df.index[idx]\n",
        "                idx += 1\n",
        "\n",
        "        df_copy.loc[episode_df.index, 'Lane_change_collision_fb'] = episode_df['Lane_change_collision_fb'].values # Update original df\n",
        "        # df_copy.loc[episode_df.index, 'count_lane_change'] = episode_df['count_lane_change'].values\n",
        "\n",
        "    return df_copy"
      ],
      "metadata": {
        "id": "3gE7sFDx7JGx"
      },
      "execution_count": null,
      "outputs": []
    },
    {
      "cell_type": "code",
      "source": [
        "# Call the function and save the updated dataframe as \"lane_feedback_df\"\n",
        "lane_change_collision_fb_df = calculate_lane_changes(trajectory_df)"
      ],
      "metadata": {
        "id": "xKboQ065Xe1T"
      },
      "execution_count": null,
      "outputs": []
    },
    {
      "cell_type": "code",
      "source": [
        "data_table.enable_dataframe_formatter()\n",
        "data_table.DataTable(lane_change_collision_fb_df)"
      ],
      "metadata": {
        "id": "mxC64v2KXmh5"
      },
      "execution_count": null,
      "outputs": []
    },
    {
      "cell_type": "code",
      "source": [
        " # Step A.2.2: FUNCTION TO CALCULATE TIME TO COLLISION(TTC)\n",
        "def calculate_ttc(ego_vehicle, other_vehicles):\n",
        "    if not other_vehicles:\n",
        "        return np.inf, -1  # No other vehicles\n",
        "\n",
        "    min_ttc = np.inf\n",
        "    nearest_vehicle_index = -1\n",
        "\n",
        "    ego_x = ego_vehicle[\"x\"]\n",
        "    ego_y = ego_vehicle[\"y\"]\n",
        "    ego_vx = ego_vehicle[\"vx\"]\n",
        "    ego_vy = ego_vehicle[\"vy\"]\n",
        "\n",
        "    for i, other in enumerate(other_vehicles):\n",
        "        other_x = other[\"x\"]\n",
        "        other_y = other[\"y\"]\n",
        "        other_vx = other[\"vx\"]\n",
        "        other_vy = other[\"vy\"]\n",
        "\n",
        "        dx = other_x - ego_x\n",
        "        dy = other_y - ego_y\n",
        "\n",
        "        # Use magnitude and heading if vx/vy not directly available\n",
        "        # v_ego = np.sqrt(ego_vx**2 + ego_vy**2)\n",
        "        # heading_ego = ...  # Get heading angle\n",
        "        # v_other = np.sqrt(other_vx**2 + other_vy**2)\n",
        "        # heading_other = ... # Get heading angle\n",
        "\n",
        "        dvx = other_vx - ego_vx\n",
        "        dvy = other_vy - ego_vy\n",
        "\n",
        "        # Calculate TTC (constant velocity assumption)\n",
        "        # More robust calculation considering angle between vehicles:\n",
        "        dot_product = dx * dvx + dy * dvy\n",
        "        if dot_product < 0:  # Vehicles are getting closer\n",
        "            distance = np.sqrt(dx**2 + dy**2)\n",
        "            relative_speed = np.sqrt(dvx**2 + dvy**2)  # Magnitude of relative speed\n",
        "            if relative_speed > 0:\n",
        "              ttc = distance / relative_speed\n",
        "            else:\n",
        "              ttc = np.inf # Relative speed is zero, no collision\n",
        "        else:\n",
        "            ttc = np.inf  # Vehicles are moving apart\n",
        "\n",
        "\n",
        "        if ttc < min_ttc and ttc > 0: # Only consider positive TTCs (collisions)\n",
        "            min_ttc = ttc\n",
        "            nearest_vehicle_index = i\n",
        "\n",
        "    return min_ttc, nearest_vehicle_index"
      ],
      "metadata": {
        "id": "NdQ9A6ZbMIm_"
      },
      "execution_count": null,
      "outputs": []
    },
    {
      "cell_type": "code",
      "source": [
        "#  Step A.2.3: FUNCTION TO CALCULATE RELATIVE POSITION, RELATIVE VELOCITY AND ACCELARATION\n",
        "\n",
        "def calculate_collision_parameters_1(trajectory_df):\n",
        "    # Create a copy of the original dataframe\n",
        "    df_copy = trajectory_df.copy()\n",
        "\n",
        "    df_copy['Nearest vehicle id'] = None\n",
        "    df_copy['TTC'] = 0.0\n",
        "    # Create a new column for storing collision parameters\n",
        "    df_copy['Collision_Parameters'] = None\n",
        "\n",
        "    # Group by episode\n",
        "    for episode_id, episode_df in df_copy.groupby('episode'):\n",
        "        # Iterate through each timestep in the episode\n",
        "        for idx, row in episode_df.iterrows():\n",
        "            # Get the agent's state and new state\n",
        "            agent_state = row['state']\n",
        "            agent_new_state = row['next_state']\n",
        "\n",
        "            agent_position = np.array([agent_state[1], agent_state[2]])  # x, y\n",
        "            agent_velocity = np.array([agent_state[3], agent_state[4]])  # vx, vy\n",
        "            agent_new_position = np.array([agent_new_state[1], agent_new_state[2]])  # new x, new y\n",
        "            agent_new_velocity = np.array([agent_new_state[3], agent_new_state[4]])  # new vx, new vy\n",
        "\n",
        "            # Find the nearest vehicle\n",
        "            nearest_vehicle_distance = float('inf')\n",
        "            nearest_vehicle_idx = None\n",
        "            other_vehicles = [] # Initialize list to store other vehicles' data\n",
        "            for vehicle_idx, vehicle_row in episode_df.iterrows():\n",
        "                if vehicle_idx != idx:  # Skip the agent itself\n",
        "                    vehicle_state = vehicle_row['state']\n",
        "                    vehicle_position = np.array([vehicle_state[1], vehicle_state[2]])\n",
        "                    vehicle_velocity = np.array([vehicle_state[3], vehicle_state[4]]) # Added to store velocity\n",
        "                    distance = np.linalg.norm(agent_position - vehicle_position)\n",
        "                    if distance < nearest_vehicle_distance:\n",
        "                        nearest_vehicle_distance = distance\n",
        "                        nearest_vehicle_idx = vehicle_idx\n",
        "                    other_vehicles.append({\"x\": vehicle_position[0], \"y\": vehicle_position[1], \"vx\":vehicle_velocity[0], \"vy\":vehicle_velocity[1]}) # Added other vehicles\n",
        "\n",
        "            # print(f\"Episode {episode_id}, Time step {row['time_step']}: Nearest vehicle is {nearest_vehicle_idx}\")\n",
        "\n",
        "            if nearest_vehicle_idx is None:\n",
        "                collision_data = {\n",
        "                    'Vehicle_number': None,\n",
        "                    'Relative_position': None,\n",
        "                    'Relative_velocity': None,\n",
        "                    'Relative_speed': None,\n",
        "                    'TTC': None,\n",
        "                    'Agent_acceleration': None\n",
        "                }\n",
        "                df_copy.at[row.name, 'Collision_Parameters'] = collision_data\n",
        "                continue\n",
        "\n",
        "            # --- TTC Calculation Logic (Modified) ---\n",
        "            ego_vehicle = {\"x\": agent_position[0], \"y\": agent_position[1], \"vx\": agent_velocity[0], \"vy\": agent_velocity[1]}\n",
        "            ttc, _ = calculate_ttc(ego_vehicle, other_vehicles) # Call the function\n",
        "\n",
        "            # --- End of TTC Calculation Logic ---\n",
        "\n",
        "            nearest_vehicle_state = episode_df.loc[nearest_vehicle_idx, 'state']\n",
        "            nearest_vehicle_position = np.array([nearest_vehicle_state[1], nearest_vehicle_state[2]])\n",
        "            nearest_vehicle_velocity = np.array([nearest_vehicle_state[3], nearest_vehicle_state[4]])\n",
        "\n",
        "            relative_position = nearest_vehicle_position - agent_position\n",
        "            relative_velocity = nearest_vehicle_velocity - agent_velocity\n",
        "            relative_speed = np.linalg.norm(relative_velocity)\n",
        "\n",
        "\n",
        "            acceleration = agent_new_velocity - agent_velocity\n",
        "\n",
        "            collision_data = {\n",
        "                'Vehicle_number': nearest_vehicle_idx,\n",
        "                'Relative_position': relative_position.tolist(),\n",
        "                'Relative_velocity': relative_velocity.tolist(),\n",
        "                'Relative_speed': relative_speed,\n",
        "                'TTC': ttc,\n",
        "                'Agent_acceleration': acceleration.tolist()\n",
        "            }\n",
        "            df_copy.at[row.name, 'Collision_Parameters'] = collision_data\n",
        "            df_copy.at[row.name, 'Nearest vehicle id'] = nearest_vehicle_idx\n",
        "            df_copy.at[row.name, 'TTC'] = ttc\n",
        "\n",
        "    return df_copy"
      ],
      "metadata": {
        "id": "HPpCX1PzMLZv"
      },
      "execution_count": null,
      "outputs": []
    },
    {
      "cell_type": "code",
      "source": [
        "collision_parameters_df_1 = calculate_collision_parameters_1(lane_change_collision_fb_df)"
      ],
      "metadata": {
        "id": "TqYFw2pib_zY"
      },
      "execution_count": null,
      "outputs": []
    },
    {
      "cell_type": "code",
      "source": [
        "data_table.enable_dataframe_formatter()\n",
        "data_table.DataTable(collision_parameters_df_1)"
      ],
      "metadata": {
        "id": "h-FlnywacKHX"
      },
      "execution_count": null,
      "outputs": []
    },
    {
      "cell_type": "code",
      "source": [
        "## Time to collission for each episode\n",
        "## Group the data by 'episode'\n",
        "# episode_data = collision_parameters_df_1.groupby('episode')\n",
        "## Loop through each episode\n",
        "# for episode, data in episode_data:\n",
        "#    # Extract lane indices\n",
        "#     ttc_list = data['TTC'].tolist()\n",
        "\n",
        "#    # Count the total number of time steps in the episode\n",
        "#     total_timesteps = data['time_step'].max() + 1  # Assuming time_step starts from 0\n",
        "\n",
        "#     print(f\"Episode {episode}:Total timesteps {total_timesteps}: {ttc_list}\")"
      ],
      "metadata": {
        "id": "-oWAV3EZcqu-"
      },
      "execution_count": null,
      "outputs": []
    },
    {
      "cell_type": "code",
      "source": [
        "## List of Nearest vehicles in each Episode\n",
        "## Group the data by 'episode'\n",
        "# episode_data = collision_parameters_df_1.groupby('episode')\n",
        "## Loop through each episode\n",
        "# for episode, data in episode_data:\n",
        "#    # Extract lane indices\n",
        "#     nearest_vehicle_list = data['Nearest vehicle id'].tolist()\n",
        "\n",
        "#    # Count the total number of time steps in the episode\n",
        "#     total_timesteps = data['time_step'].max() + 1  # Assuming time_step starts from 0\n",
        "\n",
        "#     print(f\"Episode {episode}:Total timesteps {total_timesteps}: {nearest_vehicle_list}\")"
      ],
      "metadata": {
        "id": "mZsgFYSpigoO"
      },
      "execution_count": null,
      "outputs": []
    },
    {
      "cell_type": "code",
      "execution_count": null,
      "metadata": {
        "id": "8Ee2reKxpTB6"
      },
      "outputs": [],
      "source": [
        "# Step A.2.4: Function to implement collision avoidance feedback\n",
        "def implement_collision_feedback(df):\n",
        "    # Create a copy of the dataframe to avoid modifying the original dataframe\n",
        "    df_copy = df.copy()\n",
        "\n",
        "    # Create new columns for Collision Feedback and Collision Reward\n",
        "    df_copy['Collision_Feedback'] = None\n",
        "    df_copy['Collision_score'] = 0.0\n",
        "\n",
        "    # Iterate through each timestep in the dataframe\n",
        "    for idx, row in df_copy.iterrows():\n",
        "        collision_data = row['Collision_Parameters']\n",
        "        ttc = collision_data['TTC']\n",
        "        agent_acceleration = collision_data['Agent_acceleration']\n",
        "        lane_change = row['Lane_change_collision_fb']\n",
        "\n",
        "        # Initialize feedback and reward\n",
        "        feedback = ''\n",
        "        feedback_1 = ''\n",
        "        score = 0.0\n",
        "\n",
        "        # Logic for Time to Collision (TTC)\n",
        "        if  0.5 <= ttc <=2.0 :\n",
        "            feedback_1 = 'Potential collision risk'\n",
        "            if agent_acceleration[0] < 0:\n",
        "                feedback = 'Avoided collision by slowing down'\n",
        "                score = -2                                                          # Bias Value 5\n",
        "            elif agent_acceleration[0] > 0:\n",
        "                feedback = 'Avoided collision by speeding up'\n",
        "                score = +2                                                          # Bias Value 6\n",
        "            elif lane_change == 1:\n",
        "                feedback = 'Avoided collision by lane change'\n",
        "                score = +1                                                          # Bias Value 7\n",
        "        elif ttc < 0.5:\n",
        "            feedback_1 = 'Immediate collision risk'\n",
        "            # Check if agent_acceleration is not [0, 0] using any\n",
        "            # Modified: Check if any element in agent_acceleration is not 0\n",
        "            if any(x != 0 for x in agent_acceleration):\n",
        "            # if agent_acceleration != [0, 0]:\n",
        "                feedback = 'Emergency avoidance'\n",
        "                score = -1                                                          # Bias Value 9\n",
        "            else:\n",
        "                score = 0.0\n",
        "        else:\n",
        "            feedback = 'Safe Path'\n",
        "            score = -2                                                              # Bias Value 9\n",
        "\n",
        "        # Update the feedback and reward columns\n",
        "        df_copy.at[idx, 'Collision_Feedback'] = feedback_1, feedback\n",
        "        df_copy.at[idx, 'Collision_score'] = score\n",
        "\n",
        "    return df_copy"
      ]
    },
    {
      "cell_type": "code",
      "source": [
        "# Call the function to process collision feedback and reward\n",
        "Collision_feedback_df = implement_collision_feedback(collision_parameters_df_1)"
      ],
      "metadata": {
        "id": "uVDzc0QMqYdO"
      },
      "execution_count": null,
      "outputs": []
    },
    {
      "cell_type": "code",
      "source": [
        "data_table.enable_dataframe_formatter()\n",
        "data_table.DataTable(Collision_feedback_df)"
      ],
      "metadata": {
        "id": "mvv1exBGqcb6"
      },
      "execution_count": null,
      "outputs": []
    },
    {
      "cell_type": "markdown",
      "source": [
        "SECTION A.3: FEEDBACK BASED ON SPEED OPTIMIZATION\n",
        "*   Step A.3.1: FUNCTION TO CALCULATE AGENT SPEED AND TRAFFIC DENSITY SCORE\n",
        "*   Step A.3.2: FUNCTION TO IMPLEMENT SPEED OPTIMIZATION FEEDBACK"
      ],
      "metadata": {
        "id": "-cVuPczPnjiy"
      }
    },
    {
      "cell_type": "code",
      "execution_count": null,
      "metadata": {
        "id": "Oxh0zhuHzx75"
      },
      "outputs": [],
      "source": [
        "# Step A.3.1: FUNCTION TO CALCULATE AGENT SPEED AND TRAFFIC DENSITY SCORE\n",
        "# Define the function to calculate agent speed and traffic density score\n",
        "def calculate_speed_and_traffic_density(trajectory_df):\n",
        "    # Create a copy of the input dataframe to avoid modifying the original\n",
        "    df = trajectory_df.copy()\n",
        "\n",
        "    df['Average_distance'] = 0.0\n",
        "    df['Traffic_density_score'] = 0\n",
        "    df['Agent_Speed'] = 0\n",
        "    # Initialize the Speed_Optimization_Parameters column\n",
        "    df['Speed_Optimization_Parameters'] = None\n",
        "\n",
        "\n",
        "    # Function to calculate agent speed based on vx and vy (longitudinal and lateral velocities)\n",
        "    def calculate_speed(vx, vy):\n",
        "        return np.sqrt(vx**2 + vy**2)\n",
        "\n",
        "    # Iterate through the rows of the dataframe to calculate the required values\n",
        "    for index, row in df.iterrows():\n",
        "        # Extract agent state and next state\n",
        "        state = row['state']\n",
        "        next_state = row['next_state']\n",
        "\n",
        "        # Extract agent vehicle's (ego vehicle) longitudinal and lateral velocity\n",
        "        agent_vx = state[3]  # vx of agent\n",
        "        agent_vy = state[4]  # vy of agent\n",
        "\n",
        "        # Calculate agent speed\n",
        "        agent_speed = calculate_speed(agent_vx, agent_vy)\n",
        "\n",
        "        # Extract other vehicles' state\n",
        "        # The original state is a flattened array of shape (25,).\n",
        "        # We need to reshape it to (5, 5) to represent 5 vehicles, each with 5 attributes.\n",
        "        # Then we can select the other vehicles (excluding the ego vehicle at index 0).\n",
        "\n",
        "        state_reshaped = state.reshape(5, 5)  # Reshape to 5 vehicles, 5 features each\n",
        "        other_vehicles_state = state_reshaped[1:]  # Exclude ego vehicle (index 0)\n",
        "\n",
        "\n",
        "        # Extract other vehicles' state\n",
        "        # other_vehicles_state = state[1:].reshape(-1, 5)  # Extract all other vehicles' states\n",
        "\n",
        "        # Calculate the distances between the agent and other vehicles\n",
        "        distances = []\n",
        "        for vehicle in other_vehicles_state:\n",
        "            # Calculate the distance between the agent and other vehicles using x and y positions\n",
        "            vehicle_x, vehicle_y = vehicle[1], vehicle[2]\n",
        "            agent_x, agent_y = state[1], state[2]\n",
        "            distance = np.sqrt((vehicle_x - agent_x)**2 + (vehicle_y - agent_y)**2)\n",
        "            distances.append(distance)\n",
        "            # print(f\"Distance between agent and vehicle {index}: {distance}\")\n",
        "\n",
        "        # Determine traffic density score based on the distance\n",
        "        traffic_density_score = 1  # Default low traffic density (1)\n",
        "        avg_distance = np.mean(distances)\n",
        "        #print(f\"Average distance between agent and other vehicles: {avg_distance}\")\n",
        "\n",
        "        if avg_distance < 0.8:  # High traffic density\n",
        "            traffic_density_score = 3\n",
        "        elif avg_distance < 1.0:  # Medium traffic density\n",
        "            traffic_density_score = 2\n",
        "\n",
        "        df.at[index, 'Average_distance'] = avg_distance\n",
        "        df.at[index, 'Traffic_density_score'] = traffic_density_score\n",
        "        df.at[index, 'Agent_Speed'] = agent_speed\n",
        "        # Add the agent speed and traffic density score to the 'Speed_Optimization_Parameters' column\n",
        "        df.at[index, 'Speed_Optimization_Parameters'] = {'Agent_Speed': agent_speed, 'Traffic_Density_Score': traffic_density_score}\n",
        "\n",
        "\n",
        "    return df\n"
      ]
    },
    {
      "cell_type": "code",
      "source": [
        "# Call the function to calculate speed and traffic density\n",
        "Speed_parameters_df = calculate_speed_and_traffic_density(trajectory_df)"
      ],
      "metadata": {
        "id": "S7dIIMD0qkJJ"
      },
      "execution_count": null,
      "outputs": []
    },
    {
      "cell_type": "code",
      "source": [
        "data_table.enable_dataframe_formatter()\n",
        "data_table.DataTable(Speed_parameters_df)"
      ],
      "metadata": {
        "id": "mLRhQOJNqnU4"
      },
      "execution_count": null,
      "outputs": []
    },
    {
      "cell_type": "code",
      "source": [
        "## Traffic Density Score of each episode\n",
        "##  Group the data by 'episode'\n",
        "# episode_data = Speed_parameters_df.groupby('episode')\n",
        "##  Loop through each episode\n",
        "# for episode, data in episode_data:\n",
        "#     # Extract lane indices\n",
        "#     traffic_density_score_list = data['Traffic_density_score'].tolist()\n",
        "\n",
        "#    # Count the total number of time steps in the episode\n",
        "#     total_timesteps = data['time_step'].max() + 1  # Assuming time_step starts from 0\n",
        "\n",
        "#     print(f\"Episode {episode}:Total timesteps {total_timesteps}: {traffic_density_score_list}\")"
      ],
      "metadata": {
        "id": "-yUUPrMLERDu"
      },
      "execution_count": null,
      "outputs": []
    },
    {
      "cell_type": "code",
      "source": [
        "## Agent's speed for each episode\n",
        "##  Group the data by 'episode'\n",
        "# episode_data = Speed_parameters_df.groupby('episode')\n",
        "##  Loop through each episode\n",
        "# for episode, data in episode_data:\n",
        "#     # Extract lane indices\n",
        "#     agent_speed_list = data['Agent_Speed'].tolist()\n",
        "\n",
        "#     # Count the total number of time steps in the episode\n",
        "#     total_timesteps = data['time_step'].max() + 1  # Assuming time_step starts from 0\n",
        "\n",
        "#     print(f\"Episode {episode}:Total timesteps {total_timesteps}: {agent_speed_list}\")"
      ],
      "metadata": {
        "id": "yko_9mnTF50A"
      },
      "execution_count": null,
      "outputs": []
    },
    {
      "cell_type": "code",
      "execution_count": null,
      "metadata": {
        "id": "uOHlfCEsp81h"
      },
      "outputs": [],
      "source": [
        "# Step A.3.2: FUNCTION TO IMPLEMENT SPEED OPTIMIZATION FEEDBACK\n",
        "def implement_speed_optimization_feedback(Speed_parameters_df):\n",
        "    # Create a copy of the dataframe to avoid modifying the original\n",
        "    df_copy = Speed_parameters_df.copy()\n",
        "\n",
        "    # Define the threshold_speed range\n",
        "    threshold_speed_min = 0.25  # Example minimum threshold speed\n",
        "    threshold_speed_max = 0.30  # Example maximum threshold speed\n",
        "    threshold_speed = (threshold_speed_min, threshold_speed_max)  # Tuple representing min and max speeds\n",
        "\n",
        "    # Initialize columns for feedback and reward\n",
        "    speed_optimization_feedback = []\n",
        "    speed_optimization_score = []\n",
        "\n",
        "    # Iterate through the dataframe to calculate feedback and rewards\n",
        "    for i in range(len(df_copy)):\n",
        "        # Extract the agent speed and traffic density from the Speed_Optimization_Parameters\n",
        "        # agent_speed = df_copy['Speed_Optimization_Parameters']['Agent_Speed']\n",
        "        # traffic_density = df_copy['Speed_Optimization_Parameters']['Traffic_density_score']\n",
        "        agent_speed = df_copy['Speed_Optimization_Parameters'][i]['Agent_Speed']\n",
        "        traffic_density = df_copy['Speed_Optimization_Parameters'][i]['Traffic_Density_Score']\n",
        "\n",
        "        feedback = \"\"\n",
        "        score = 0.0\n",
        "\n",
        "        # Check traffic density and apply corresponding logic\n",
        "        if traffic_density == 1:  # Low traffic density\n",
        "            if agent_speed > threshold_speed[1]:\n",
        "                feedback = \"Low risk, High Speed-Optimization\"\n",
        "                score = +2                                                          # Bias Value 10\n",
        "            elif threshold_speed[0] <= agent_speed <= threshold_speed[1]:\n",
        "                feedback = \"Low risk, moderate Speed-Optimization\"\n",
        "                score = +1                                                          # Bias Value 11\n",
        "            else:  # agent_speed < threshold_speed[0]\n",
        "                feedback = \"Low risk, Low Speed-Optimization\"\n",
        "                score = -2                                                          # Bias Value 12\n",
        "\n",
        "        elif traffic_density == 2:  # Medium traffic density\n",
        "            if agent_speed > threshold_speed[1]:\n",
        "                feedback = \"Moderate risk, High Speed-Optimization\"\n",
        "                score = +1                                                          # Bias Value 13\n",
        "            elif threshold_speed[0] <= agent_speed <= threshold_speed[1]:\n",
        "                feedback = \"Moderate risk, moderate Speed-Optimization\"\n",
        "                score = 0                                                           # Bias Value 14\n",
        "            else:  # agent_speed < threshold_speed[0]\n",
        "                feedback = \"Moderate risk, Low Speed-Optimization\"\n",
        "                score = -1                                                          # Bias Value 15\n",
        "\n",
        "        elif traffic_density == 3:  # High traffic density\n",
        "            if agent_speed > threshold_speed[1]:\n",
        "                feedback = \"High risk, High Speed-Optimization\"\n",
        "                score = +2                                                          # Bias Value 16\n",
        "            elif threshold_speed[0] <= agent_speed <= threshold_speed[1]:\n",
        "                feedback = \"High risk, moderate Speed-Optimization\"\n",
        "                score = +1                                                          # Bais Value 17\n",
        "            else:  # agent_speed < threshold_speed[0]\n",
        "                feedback = \"High risk, Low Speed-Optimization\"\n",
        "                score = -2                                                          # Bias Value 18\n",
        "\n",
        "        # Append the feedback and reward to the respective lists\n",
        "        speed_optimization_feedback.append(feedback)\n",
        "        speed_optimization_score.append(score)\n",
        "\n",
        "    # Add the new columns to the dataframe\n",
        "    df_copy['Speed_Optimization_Feedback'] = speed_optimization_feedback\n",
        "    df_copy['Speed_Optimization_score'] = speed_optimization_score\n",
        "\n",
        "    return df_copy"
      ]
    },
    {
      "cell_type": "code",
      "source": [
        "Speed_optimization_feedback_df = implement_speed_optimization_feedback(Speed_parameters_df)"
      ],
      "metadata": {
        "id": "LbwS2giIqvqG"
      },
      "execution_count": null,
      "outputs": []
    },
    {
      "cell_type": "code",
      "source": [
        "data_table.enable_dataframe_formatter()\n",
        "data_table.DataTable(Speed_optimization_feedback_df)"
      ],
      "metadata": {
        "id": "HMaW6U2yq0Vg"
      },
      "execution_count": null,
      "outputs": []
    },
    {
      "cell_type": "markdown",
      "source": [
        "SECTION- A.4: REWARD MODELLING(HUMAN FEEDBACK)\n",
        "*   Step A.4.1: COMBINING HUMAN FEEDBACK AND CALCULATING ADJUSTED REWARDS\n",
        "*   Step A.4.2: RECALIBRATE REWARDS BASED ON SIMULATED HUMAN FEEDBACK"
      ],
      "metadata": {
        "id": "RMguIvy_oi5x"
      }
    },
    {
      "cell_type": "code",
      "execution_count": null,
      "metadata": {
        "id": "kJWJEkepqldb"
      },
      "outputs": [],
      "source": [
        "# Step A.4.1: COMBINING HUMAN FEEDBACK AND CALCULATING ADJUSTED REWARDS\n",
        "# Function to combine data from four dataframes and merge with trajectory_df\n",
        "def combine_feedback_and_rewards(trajectory_df, collision_feedback_df, speed_optimization_feedback_df, lane_behaviour_feedback_df):\n",
        "    # Create a copy of the trajectory_df to avoid modifying the original one\n",
        "    df_copy = trajectory_df.copy()\n",
        "\n",
        "    # Convert the 'Collision_Feedback' column to strings\n",
        "    #collision_feedback_df['Collision_Feedback'] = collision_feedback_df['Collision_Feedback'].apply(lambda x:''.join(map(str, x)))\n",
        "    collision_feedback_df['Collision_Feedback'] = collision_feedback_df['Collision_Feedback'].astype(str)\n",
        "\n",
        "\n",
        "    # Combine the 'Feedback' columns from the four dataframes and add to the 'Simulated_human_feedback' column\n",
        "    df_copy['Simulated_human_feedback'] = (\n",
        "        collision_feedback_df['Collision_Feedback'] + \";\" +\n",
        "        speed_optimization_feedback_df['Speed_Optimization_Feedback'] + \";\" +\n",
        "        lane_behaviour_feedback_df['Lane_feedback']\n",
        "    )\n",
        "\n",
        "    # Add the values of the 'score' columns from the four dataframes and store the result in 'Adjusted_score' column\n",
        "    df_copy['Adjusted_score'] = (\n",
        "        collision_feedback_df['Collision_score'] +\n",
        "        speed_optimization_feedback_df['Speed_Optimization_score'] +\n",
        "        lane_behaviour_feedback_df['Lane_change_score']\n",
        "    )\n",
        "\n",
        "    # Return the updated dataframe\n",
        "    return df_copy"
      ]
    },
    {
      "cell_type": "code",
      "source": [
        "# Call the function to combine feedback and calculate adjusted rewards\n",
        "simulated_human_feedback_df = combine_feedback_and_rewards(\n",
        "    trajectory_df,\n",
        "    Collision_feedback_df,\n",
        "    Speed_optimization_feedback_df,\n",
        "    lane_behaviour_feedback_df\n",
        ")"
      ],
      "metadata": {
        "id": "pDDBxP6Mq6zJ"
      },
      "execution_count": null,
      "outputs": []
    },
    {
      "cell_type": "code",
      "source": [
        "data_table.enable_dataframe_formatter()\n",
        "data_table.DataTable(simulated_human_feedback_df)"
      ],
      "metadata": {
        "id": "T7M6IqIfq8pl"
      },
      "execution_count": null,
      "outputs": []
    },
    {
      "cell_type": "code",
      "source": [
        "# Step A.4.2: RECALIBRATE REWARDS BASED ON SIMULATED HUMAN FEEDBACK\n",
        "# Function to recalibrate the rewards\n",
        "def recalibrate_rewards(df):\n",
        "    # Create a copy of the dataframe\n",
        "    df_copy = df.copy()\n",
        "\n",
        "    # Create the 'Recalibrated_rewards' column\n",
        "    df_copy['Recalibrated_rewards'] = df_copy['reward'] + df_copy['Adjusted_score']\n",
        "\n",
        "    # Get the list of recalibrated rewards\n",
        "    recalibrated_rewards_list = df_copy['Recalibrated_rewards'].tolist()\n",
        "\n",
        "    return df_copy, recalibrated_rewards_list"
      ],
      "metadata": {
        "id": "E_vUgUJ2rJ7t"
      },
      "execution_count": null,
      "outputs": []
    },
    {
      "cell_type": "code",
      "source": [
        "# Apply the function to recalibrate rewards\n",
        "recalibrated_df, recalibrated_rewards_list = recalibrate_rewards(simulated_human_feedback_df)"
      ],
      "metadata": {
        "id": "1tqZXWwmrNFI"
      },
      "execution_count": null,
      "outputs": []
    },
    {
      "cell_type": "code",
      "source": [
        "data_table.enable_dataframe_formatter()\n",
        "data_table.DataTable(recalibrated_df)"
      ],
      "metadata": {
        "id": "hj6UZ7E3AdWc"
      },
      "execution_count": null,
      "outputs": []
    },
    {
      "cell_type": "code",
      "source": [
        "recalibrated_df.to_pickle('/content/drive/MyDrive/data_rp1/2_trajectories/0_initial_training/1_biased_hf_trajectories_for_bias_flagging_df.pkl')"
      ],
      "metadata": {
        "id": "IPloIhcwM2_-"
      },
      "execution_count": null,
      "outputs": []
    },
    {
      "cell_type": "code",
      "source": [
        "# To access the reward for a specific step:\n",
        "for i, feedback in enumerate(recalibrated_rewards_list):\n",
        "    human_recalibrated_reward_for_step = recalibrated_rewards_list[i]\n",
        "    print(f\"Recalibrated reward for step {i}: {human_recalibrated_reward_for_step}\")"
      ],
      "metadata": {
        "id": "9ghTAsxHrRBv"
      },
      "execution_count": null,
      "outputs": []
    }
  ]
}