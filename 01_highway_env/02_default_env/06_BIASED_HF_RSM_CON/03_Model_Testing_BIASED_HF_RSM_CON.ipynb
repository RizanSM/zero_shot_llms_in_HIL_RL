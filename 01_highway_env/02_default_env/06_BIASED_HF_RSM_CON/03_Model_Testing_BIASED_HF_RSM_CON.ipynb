{
  "cells": [
    {
      "cell_type": "markdown",
      "metadata": {
        "id": "view-in-github",
        "colab_type": "text"
      },
      "source": [
        "<a href=\"https://colab.research.google.com/github/RizanSM/zero_shot_llms_in_HIL_RL/blob/main/01_highway_env/02_default_env/06_BIASED_HF_RSM_CON/03_Model_Testing_BIASED_HF_RSM_CON.ipynb\" target=\"_parent\"><img src=\"https://colab.research.google.com/assets/colab-badge.svg\" alt=\"Open In Colab\"/></a>"
      ]
    },
    {
      "cell_type": "code",
      "execution_count": null,
      "metadata": {
        "id": "OuwmGGRJrPVF"
      },
      "outputs": [],
      "source": [
        "# Install the required libraries in your Google Colab environment\n",
        "!pip install gymnasium stable-baselines3 highway-env -q"
      ]
    },
    {
      "cell_type": "code",
      "execution_count": null,
      "metadata": {
        "id": "VZhaXFBUrfBS"
      },
      "outputs": [],
      "source": [
        "# Import the necessary libraries\n",
        "import gymnasium as gym\n",
        "import highway_env\n",
        "import numpy as np\n",
        "import pandas as pd\n",
        "import pickle\n",
        "import os\n",
        "import matplotlib.pyplot as plt"
      ]
    },
    {
      "cell_type": "code",
      "execution_count": null,
      "metadata": {
        "id": "oilpd3dOz8r_"
      },
      "outputs": [],
      "source": [
        "from stable_baselines3 import PPO\n",
        "from google.colab import drive\n",
        "from google.colab import data_table\n",
        "\n",
        "# Mount Google Drive\n",
        "drive.mount('/content/drive')"
      ]
    },
    {
      "cell_type": "markdown",
      "source": [
        "CALCULATE MISALIGNMENT FUNCTION"
      ],
      "metadata": {
        "id": "cYmF375v8mCW"
      }
    },
    {
      "cell_type": "code",
      "source": [
        "def calculate_misalignment(df, reward_threshold=0, lane_change_penalty=1, collision_penalty=5, reward_penalty=2):\n",
        "    \"\"\"\n",
        "    Calculate misalignment score for each episode in the dataset.\n",
        "\n",
        "    Parameters:\n",
        "        df (pd.DataFrame): The data frame containing highway environment trajectories.\n",
        "        reward_threshold (float): Threshold below which reward is considered suboptimal.\n",
        "        lane_change_penalty (float): Penalty factor for unnecessary lane changes.\n",
        "        collision_penalty (float): Penalty factor for collisions.\n",
        "        reward_penalty (float): Penalty factor for suboptimal rewards.\n",
        "\n",
        "    Returns:\n",
        "        pd.DataFrame: Data frame with misalignment scores per episode.\n",
        "    \"\"\"\n",
        "    misalignment_scores = []  # Changed to 'misalignment_scores' to store all episode scores\n",
        "\n",
        "    for episode in df['episode'].unique():\n",
        "        episode_df = df[df['episode'] == episode].sort_values(by='time_step')\n",
        "\n",
        "        # Calculate lane changes\n",
        "        lane_changes = episode_df['lane_index'].diff().abs().sum()\n",
        "\n",
        "        # Count collisions\n",
        "        collisions = episode_df['collision_flag'].sum()\n",
        "\n",
        "        # Count suboptimal rewards\n",
        "        suboptimal_rewards = (episode_df['reward'] < reward_threshold).sum()\n",
        "\n",
        "        # Compute misalignment score\n",
        "        misalignment_score = (\n",
        "            lane_change_penalty * lane_changes +\n",
        "            collision_penalty * collisions +\n",
        "            reward_penalty * suboptimal_rewards\n",
        "        )\n",
        "\n",
        "        misalignment_scores.append({'episode': episode, 'Misalignment Score': misalignment_score})\n",
        "\n",
        "    df = pd.DataFrame(misalignment_scores) # Create the DataFrame outside the loop\n",
        "\n",
        "    # Calculate the overall misalignment as the mean of per-episode misalignment\n",
        "    Average_misalignment = df['Misalignment Score'].mean() # Calculate mean of 'Misalignment Score' column\n",
        "\n",
        "    return df, Average_misalignment"
      ],
      "metadata": {
        "id": "8NUfi28B8ljo"
      },
      "execution_count": null,
      "outputs": []
    },
    {
      "cell_type": "markdown",
      "source": [
        "AVERAGE TERMINATE TIME (ATT) FUNCTION"
      ],
      "metadata": {
        "id": "dwn0xaE5O371"
      }
    },
    {
      "cell_type": "code",
      "source": [
        "def calculate_collision_rate(test_trajectory_df):\n",
        "    # Initialize an empty list to store the results\n",
        "    results = []\n",
        "\n",
        "    # Group by 'episode' to process each episode separately\n",
        "    episodes = test_trajectory_df.groupby('episode')\n",
        "\n",
        "    # Iterate through each episode\n",
        "    for episode, episode_data in episodes:\n",
        "        # Count the number of collisions in the current episode\n",
        "        num_collisions = episode_data['collision_flag'].sum()\n",
        "\n",
        "        # Get the total number of timesteps in the current episode\n",
        "        total_steps = len(episode_data)\n",
        "\n",
        "        # Append the results to the list\n",
        "        results.append({\n",
        "            'Episode': episode,\n",
        "            'Total Steps': total_steps\n",
        "        })\n",
        "\n",
        "    # Convert the list of results to a DataFrame\n",
        "    results_df = pd.DataFrame(results)\n",
        "\n",
        "    # Calculate the overall Collision rate as the mean of per-episode Collision rate\n",
        "    Average_terminate_time = results_df['Total Steps'].mean()\n",
        "\n",
        "    # Return the resulting DataFrame\n",
        "    return results_df, Average_terminate_time"
      ],
      "metadata": {
        "id": "mRrfPFSvQcbI"
      },
      "execution_count": null,
      "outputs": []
    },
    {
      "cell_type": "markdown",
      "source": [
        "STABILITY OF THE LEARNING CURVES OF THE MODEL FUNCTION"
      ],
      "metadata": {
        "id": "pzCVsjo0wuUQ"
      }
    },
    {
      "cell_type": "code",
      "source": [
        "def analyze_learning_curve(test_trajectory_df):\n",
        "    # Step 1: Calculate Cumulative Reward Per Episode\n",
        "    cumulative_rewards = test_trajectory_df.groupby('episode')['reward'].sum().reset_index()\n",
        "    cumulative_rewards.columns = ['episode', 'cumulative_reward']\n",
        "\n",
        "    # Step 2: Calculate Smoothed Rewards using Moving Average (window size of 10 episodes)\n",
        "    window_size = 10\n",
        "    cumulative_rewards['smoothed_reward'] = cumulative_rewards['cumulative_reward'].rolling(window=window_size, min_periods=1).mean()\n",
        "\n",
        "    # Step 3: Calculate Variance and Standard Deviation of Cumulative Rewards\n",
        "    variance = cumulative_rewards['cumulative_reward'].var()\n",
        "    std_dev = cumulative_rewards['cumulative_reward'].std()\n",
        "    final_reward = cumulative_rewards['cumulative_reward'].mean()\n",
        "\n",
        "    # Step 4: Return the dataframe containing all results\n",
        "    return cumulative_rewards, variance, std_dev, final_reward"
      ],
      "metadata": {
        "id": "Xcvr9RJxw8OO"
      },
      "execution_count": null,
      "outputs": []
    },
    {
      "cell_type": "markdown",
      "source": [
        "COMBINING ALL THE DATA FRAMES"
      ],
      "metadata": {
        "id": "MQHLZLMKGHxn"
      }
    },
    {
      "cell_type": "code",
      "source": [
        "def create_cummulative_reward(df1, df2, df3, df4, df5):\n",
        "    \"\"\"\n",
        "    Create a data frame 'ideal_cummulative_reward' that contains:\n",
        "      - 'episode' column (common across all data frames)\n",
        "      - 'cumulative_reward_1' to 'cumulative_reward_5' columns from each data frame respectively,\n",
        "        where each input data frame has columns 'episode' and 'cummulative_reward'.\n",
        "      - 'mean_cumulative_reward' column containing the row-wise mean of the 5 cumulative rewards.\n",
        "\n",
        "    Parameters:\n",
        "      df1, df2, df3, df4, df5 (pd.DataFrame): Data frames with columns 'episode' and 'cummulative_reward'.\n",
        "\n",
        "    Returns:\n",
        "      pd.DataFrame: The merged and aggregated data frame.\n",
        "    \"\"\"\n",
        "    # Rename the 'cummulative_reward' column in each data frame to a unique name.\n",
        "    df1_renamed = df1.rename(columns={'cumulative_reward': 'cumulative_reward_1'})\n",
        "    df2_renamed = df2.rename(columns={'cumulative_reward': 'cumulative_reward_2'})\n",
        "    df3_renamed = df3.rename(columns={'cumulative_reward': 'cumulative_reward_3'})\n",
        "    df4_renamed = df4.rename(columns={'cumulative_reward': 'cumulative_reward_4'})\n",
        "    df5_renamed = df5.rename(columns={'cumulative_reward': 'cumulative_reward_5'})\n",
        "\n",
        "    # Merge the data frames on the 'episode' column.\n",
        "    merged_df = df1_renamed[['episode', 'cumulative_reward_1']].copy()\n",
        "    merged_df = merged_df.merge(df2_renamed[['episode', 'cumulative_reward_2']], on='episode')\n",
        "    merged_df = merged_df.merge(df3_renamed[['episode', 'cumulative_reward_3']], on='episode')\n",
        "    merged_df = merged_df.merge(df4_renamed[['episode', 'cumulative_reward_4']], on='episode')\n",
        "    merged_df = merged_df.merge(df5_renamed[['episode', 'cumulative_reward_5']], on='episode')\n",
        "\n",
        "    # Compute the episode-wise mean of the cumulative rewards.\n",
        "    reward_columns = [\n",
        "        'cumulative_reward_1',\n",
        "        'cumulative_reward_2',\n",
        "        'cumulative_reward_3',\n",
        "        'cumulative_reward_4',\n",
        "        'cumulative_reward_5'\n",
        "    ]\n",
        "    merged_df['mean_cumulative_reward'] = merged_df[reward_columns].mean(axis=1)\n",
        "\n",
        "    return merged_df"
      ],
      "metadata": {
        "id": "S-oUVinlpBFD"
      },
      "execution_count": null,
      "outputs": []
    },
    {
      "cell_type": "markdown",
      "source": [
        "CALCULATE FINAL MISALIGNMENT, AVERAGE TERMINATE TIME & AVERAGE EPISODIC REWARD"
      ],
      "metadata": {
        "id": "DaD1AmkUHNJP"
      }
    },
    {
      "cell_type": "code",
      "source": [
        "def calculate_performance(value_1, value_2, value_3):\n",
        "    mean_1 = sum(value_1) / len(value_1)\n",
        "    mean_2 = sum(value_2) / len(value_2)\n",
        "    mean_3 = sum(value_3) / len(value_3)\n",
        "\n",
        "    return mean_1, mean_2, mean_3"
      ],
      "metadata": {
        "id": "J2_6XYPZsGlr"
      },
      "execution_count": null,
      "outputs": []
    },
    {
      "cell_type": "markdown",
      "source": [
        "0. MODEL TESTING (BIASED_HF_LRS_CONSERVATIVE)"
      ],
      "metadata": {
        "id": "Ed-sCvL0SeNo"
      }
    },
    {
      "cell_type": "code",
      "source": [
        "trajectory_df_1 = pd.read_pickle('/content/drive/MyDrive/data_rp1/3_test_trajectories/6_biased_hf_lrs_conservative/1_biased_hf_lrs_conservative_df.pkl')   # Update directory location 1\n",
        "trajectory_df_2 = pd.read_pickle('/content/drive/MyDrive/data_rp1/3_test_trajectories/6_biased_hf_lrs_conservative/2_biased_hf_lrs_conservative_df.pkl')   # Update directory location 2\n",
        "trajectory_df_3 = pd.read_pickle('/content/drive/MyDrive/data_rp1/3_test_trajectories/6_biased_hf_lrs_conservative/3_biased_hf_lrs_conservative_df.pkl')   # Update directory location 3\n",
        "trajectory_df_4 = pd.read_pickle('/content/drive/MyDrive/data_rp1/3_test_trajectories/6_biased_hf_lrs_conservative/4_biased_hf_lrs_conservative_df.pkl')   # Update directory location 4\n",
        "trajectory_df_5 = pd.read_pickle('/content/drive/MyDrive/data_rp1/3_test_trajectories/6_biased_hf_lrs_conservative/5_biased_hf_lrs_conservative_df.pkl')   # Update directory location 5"
      ],
      "metadata": {
        "id": "OPgGDJMDSTya"
      },
      "execution_count": null,
      "outputs": []
    },
    {
      "cell_type": "markdown",
      "source": [
        "TESTING THE MODEL BY ANALYZING THE DATA FRAME <br>\n",
        "\n"
      ],
      "metadata": {
        "id": "PxYsCZSWSslL"
      }
    },
    {
      "cell_type": "markdown",
      "source": [
        "1. Biased Human feedback LRS Conservative data frame 1<br>\n",
        "trajectory_df_1 ---> 1_biased_hf_lrs_conservative_df"
      ],
      "metadata": {
        "id": "BYagvrJqS5UK"
      }
    },
    {
      "cell_type": "code",
      "source": [
        "data_table.enable_dataframe_formatter()\n",
        "data_table.DataTable(trajectory_df_1)"
      ],
      "metadata": {
        "id": "GBjRTeFLTbLu"
      },
      "execution_count": null,
      "outputs": []
    },
    {
      "cell_type": "markdown",
      "source": [
        "A. MISALIGNMENT FOR DATA FRAME (trajectory_df_1)"
      ],
      "metadata": {
        "id": "UKO7oHm_TYnm"
      }
    },
    {
      "cell_type": "code",
      "source": [
        "misalignment_df_1, misalignment_1 = calculate_misalignment(trajectory_df_1)\n",
        "print(\"misalignment:\", misalignment_1)"
      ],
      "metadata": {
        "id": "k1cPCMIgTfhM"
      },
      "execution_count": null,
      "outputs": []
    },
    {
      "cell_type": "code",
      "source": [
        "data_table.enable_dataframe_formatter()\n",
        "data_table.DataTable(misalignment_df_1)"
      ],
      "metadata": {
        "id": "b0khIeR_Tj8u"
      },
      "execution_count": null,
      "outputs": []
    },
    {
      "cell_type": "markdown",
      "source": [
        "B. AVERAGE TERMINATE TIME FOR DATA FRAME (trajectory_df_1)"
      ],
      "metadata": {
        "id": "ifHsDeAoUQEd"
      }
    },
    {
      "cell_type": "code",
      "source": [
        "collision_rate_df_1, collision_rate_1 = calculate_collision_rate(trajectory_df_1)\n",
        "print(\"average terminate time:\", collision_rate_1)"
      ],
      "metadata": {
        "id": "fP-6bXOGTj4V"
      },
      "execution_count": null,
      "outputs": []
    },
    {
      "cell_type": "code",
      "source": [
        "data_table.enable_dataframe_formatter()\n",
        "data_table.DataTable(collision_rate_df_1)"
      ],
      "metadata": {
        "id": "EbHLrhnsTj0S"
      },
      "execution_count": null,
      "outputs": []
    },
    {
      "cell_type": "markdown",
      "source": [
        "C. STABILITY OF LEARNING CURVES (trajectory_df_1)"
      ],
      "metadata": {
        "id": "4a8IM409VhQN"
      }
    },
    {
      "cell_type": "code",
      "source": [
        "learning_curve_result_df_1, variance_1, std_dev_1, final_reward_1 = analyze_learning_curve(trajectory_df_1)\n",
        "print(\"Variance:\", variance_1)\n",
        "print(\"Standard Deviation:\", std_dev_1)\n",
        "print(\"average episodic reward:\", final_reward_1)"
      ],
      "metadata": {
        "id": "7GH0WKuRUdpj"
      },
      "execution_count": null,
      "outputs": []
    },
    {
      "cell_type": "code",
      "source": [
        "data_table.enable_dataframe_formatter()\n",
        "data_table.DataTable(learning_curve_result_df_1)"
      ],
      "metadata": {
        "id": "c75ysAYcUdli"
      },
      "execution_count": null,
      "outputs": []
    },
    {
      "cell_type": "markdown",
      "source": [
        "2. Biased Human feedback LRS Conservative data frame 2<br>\n",
        "trajectory_df_2 ---> 2_biased_hf_lrs_conservative_df"
      ],
      "metadata": {
        "id": "_UHpqQeZoDxJ"
      }
    },
    {
      "cell_type": "code",
      "source": [
        "data_table.enable_dataframe_formatter()\n",
        "data_table.DataTable(trajectory_df_2)"
      ],
      "metadata": {
        "id": "UyPVaytep57o"
      },
      "execution_count": null,
      "outputs": []
    },
    {
      "cell_type": "markdown",
      "source": [
        "A. MISALIGNMENT FOR DATA FRAME (trajectory_df_2)"
      ],
      "metadata": {
        "id": "C4GdECNroeoj"
      }
    },
    {
      "cell_type": "code",
      "source": [
        "misalignment_df_2, misalignment_2 = calculate_misalignment(trajectory_df_2)\n",
        "print(\"misalignment:\", misalignment_2)"
      ],
      "metadata": {
        "id": "6Sh-Lxi9p6ND"
      },
      "execution_count": null,
      "outputs": []
    },
    {
      "cell_type": "code",
      "source": [
        "data_table.enable_dataframe_formatter()\n",
        "data_table.DataTable(misalignment_df_2)"
      ],
      "metadata": {
        "id": "pak9zg99p5u-"
      },
      "execution_count": null,
      "outputs": []
    },
    {
      "cell_type": "markdown",
      "source": [
        "B. AVERAGE TERMINATE TIME FOR DATA FRAME (trajectory_df_2)"
      ],
      "metadata": {
        "id": "gSzR5Vn3oxFF"
      }
    },
    {
      "cell_type": "code",
      "source": [
        "collision_rate_df_2, collision_rate_2 = calculate_collision_rate(trajectory_df_2)\n",
        "print(\"average terminate time:\", collision_rate_2)"
      ],
      "metadata": {
        "id": "nqCAoqiLp8M_"
      },
      "execution_count": null,
      "outputs": []
    },
    {
      "cell_type": "code",
      "source": [
        "data_table.enable_dataframe_formatter()\n",
        "data_table.DataTable(collision_rate_df_2)"
      ],
      "metadata": {
        "id": "c0lubx4Mp8CC"
      },
      "execution_count": null,
      "outputs": []
    },
    {
      "cell_type": "markdown",
      "source": [
        "C. STABILITY OF LEARNING CURVES (trajectory_df_2)"
      ],
      "metadata": {
        "id": "K7QqTFvkpqja"
      }
    },
    {
      "cell_type": "code",
      "source": [
        "learning_curve_result_df_2, variance_2, std_dev_2, final_reward_2 = analyze_learning_curve(trajectory_df_2)\n",
        "print(\"Variance:\", variance_2)\n",
        "print(\"Standard Deviation:\", std_dev_2)\n",
        "print(\"average episodic reward:\", final_reward_2)"
      ],
      "metadata": {
        "id": "S06U6FPGp_Gd"
      },
      "execution_count": null,
      "outputs": []
    },
    {
      "cell_type": "code",
      "source": [
        "data_table.enable_dataframe_formatter()\n",
        "data_table.DataTable(learning_curve_result_df_2)"
      ],
      "metadata": {
        "id": "I946Xw05p_BV"
      },
      "execution_count": null,
      "outputs": []
    },
    {
      "cell_type": "markdown",
      "source": [
        "3. Biased Human feedback LRS Conservative data frame 3<br>\n",
        "trajectory_df_3 ---> 3_biased_hf_lrs_conservative_df"
      ],
      "metadata": {
        "id": "C1o5c-DcoFPI"
      }
    },
    {
      "cell_type": "code",
      "source": [
        "data_table.enable_dataframe_formatter()\n",
        "data_table.DataTable(trajectory_df_3)"
      ],
      "metadata": {
        "id": "0NRngZv_6zLl"
      },
      "execution_count": null,
      "outputs": []
    },
    {
      "cell_type": "markdown",
      "source": [
        "A. MISALIGNMENT FOR DATA FRAME (trajectory_df_3)"
      ],
      "metadata": {
        "id": "bZ4l5pcxofSJ"
      }
    },
    {
      "cell_type": "code",
      "source": [
        "misalignment_df_3, misalignment_3 = calculate_misalignment(trajectory_df_3)\n",
        "print(\"misalignment:\", misalignment_3)"
      ],
      "metadata": {
        "id": "4IxfYn3mqPBy"
      },
      "execution_count": null,
      "outputs": []
    },
    {
      "cell_type": "code",
      "source": [
        "data_table.enable_dataframe_formatter()\n",
        "data_table.DataTable(misalignment_df_3)"
      ],
      "metadata": {
        "id": "1WJNJ_VkrOmQ"
      },
      "execution_count": null,
      "outputs": []
    },
    {
      "cell_type": "markdown",
      "source": [
        "B. AVERAGE TERMINATE TIME FOR DATA FRAME (trajectory_df_3)"
      ],
      "metadata": {
        "id": "yw4yFlzFoyIG"
      }
    },
    {
      "cell_type": "code",
      "source": [
        "collision_rate_df_3, collision_rate_3 = calculate_collision_rate(trajectory_df_3)\n",
        "print(\"average terminate time:\", collision_rate_3)"
      ],
      "metadata": {
        "id": "K6MMYsnSsStb"
      },
      "execution_count": null,
      "outputs": []
    },
    {
      "cell_type": "code",
      "source": [
        "data_table.enable_dataframe_formatter()\n",
        "data_table.DataTable(collision_rate_df_3)"
      ],
      "metadata": {
        "id": "Fzv4vO3Qs86l"
      },
      "execution_count": null,
      "outputs": []
    },
    {
      "cell_type": "markdown",
      "source": [
        "C. STABILITY OF LEARNING CURVES (trajectory_df_3)"
      ],
      "metadata": {
        "id": "3TGK9EJAprRy"
      }
    },
    {
      "cell_type": "code",
      "source": [
        "learning_curve_result_df_3, variance_3, std_dev_3, final_reward_3 = analyze_learning_curve(trajectory_df_3)\n",
        "print(\"Variance:\", variance_3)\n",
        "print(\"Standard Deviation:\", std_dev_3)\n",
        "print(\"average episodic reward:\", final_reward_3)"
      ],
      "metadata": {
        "id": "rd3COSdDo92z"
      },
      "execution_count": null,
      "outputs": []
    },
    {
      "cell_type": "code",
      "source": [
        "data_table.enable_dataframe_formatter()\n",
        "data_table.DataTable(learning_curve_result_df_3)"
      ],
      "metadata": {
        "id": "mNcWrYzmpd2o"
      },
      "execution_count": null,
      "outputs": []
    },
    {
      "cell_type": "markdown",
      "source": [
        "4. Biased Human feedback LRS Conservative data frame 4<br>\n",
        "trajectory_df_4 ---> 4_biased_hf_lrs_conservative_df"
      ],
      "metadata": {
        "id": "tHLNVDRyoFYq"
      }
    },
    {
      "cell_type": "code",
      "source": [
        "data_table.enable_dataframe_formatter()\n",
        "data_table.DataTable(trajectory_df_4)"
      ],
      "metadata": {
        "id": "j_3vaijG8sKk"
      },
      "execution_count": null,
      "outputs": []
    },
    {
      "cell_type": "markdown",
      "source": [
        "A. MISALIGNMENT FOR DATA FRAME (trajectory_df_4)"
      ],
      "metadata": {
        "id": "LiY4Asutof9j"
      }
    },
    {
      "cell_type": "code",
      "source": [
        "misalignment_df_4, misalignment_4 = calculate_misalignment(trajectory_df_4)\n",
        "print(\"misalignment:\", misalignment_4)"
      ],
      "metadata": {
        "id": "l2ovVf_7qQXI"
      },
      "execution_count": null,
      "outputs": []
    },
    {
      "cell_type": "code",
      "source": [
        "data_table.enable_dataframe_formatter()\n",
        "data_table.DataTable(misalignment_df_4)"
      ],
      "metadata": {
        "id": "-Yb4s29yrQ7t"
      },
      "execution_count": null,
      "outputs": []
    },
    {
      "cell_type": "markdown",
      "source": [
        "B. AVERAGE TERMINATE TIME FOR DATA FRAME (trajectory_df_4)"
      ],
      "metadata": {
        "id": "eSFV1iW-ozQS"
      }
    },
    {
      "cell_type": "code",
      "source": [
        "collision_rate_df_4, collision_rate_4 = calculate_collision_rate(trajectory_df_4)\n",
        "print(\"average terminate time:\", collision_rate_4)"
      ],
      "metadata": {
        "id": "J3LyqjOrshGY"
      },
      "execution_count": null,
      "outputs": []
    },
    {
      "cell_type": "code",
      "source": [
        "data_table.enable_dataframe_formatter()\n",
        "data_table.DataTable(collision_rate_df_4)"
      ],
      "metadata": {
        "id": "CNR9x30os_Wq"
      },
      "execution_count": null,
      "outputs": []
    },
    {
      "cell_type": "markdown",
      "source": [
        "C. STABILITY OF LEARNING CURVES (trajectory_df_4)"
      ],
      "metadata": {
        "id": "dlUweOkJpr99"
      }
    },
    {
      "cell_type": "code",
      "source": [
        "learning_curve_result_df_4, variance_4, std_dev_4, final_reward_4 = analyze_learning_curve(trajectory_df_4)\n",
        "print(\"Variance:\", variance_4)\n",
        "print(\"Standard Deviation:\", std_dev_4)\n",
        "print(\"average episodic reward:\", final_reward_4)"
      ],
      "metadata": {
        "id": "ip1kBdvLo2ko"
      },
      "execution_count": null,
      "outputs": []
    },
    {
      "cell_type": "code",
      "source": [
        "data_table.enable_dataframe_formatter()\n",
        "data_table.DataTable(learning_curve_result_df_4)"
      ],
      "metadata": {
        "id": "M_JVqq8upqMV"
      },
      "execution_count": null,
      "outputs": []
    },
    {
      "cell_type": "markdown",
      "source": [
        "5. Biased Human feedback LRS Conservative data frame 5<br>\n",
        "trajectory_df_5 ---> 5_biased_hf_lrs_conservative_df"
      ],
      "metadata": {
        "id": "K3TzZlChoFnb"
      }
    },
    {
      "cell_type": "code",
      "source": [
        "data_table.enable_dataframe_formatter()\n",
        "data_table.DataTable(trajectory_df_5)"
      ],
      "metadata": {
        "id": "isGcGzXV8vtH"
      },
      "execution_count": null,
      "outputs": []
    },
    {
      "cell_type": "markdown",
      "source": [
        "A. MISALIGNMENT FOR DATA FRAME (trajectory_df_5)"
      ],
      "metadata": {
        "id": "MUr9kqiBogo1"
      }
    },
    {
      "cell_type": "code",
      "source": [
        "misalignment_df_5, misalignment_5 = calculate_misalignment(trajectory_df_5)\n",
        "print(\"misalignment:\", misalignment_5)"
      ],
      "metadata": {
        "id": "hTWhsBW0qR0R"
      },
      "execution_count": null,
      "outputs": []
    },
    {
      "cell_type": "code",
      "source": [
        "data_table.enable_dataframe_formatter()\n",
        "data_table.DataTable(misalignment_df_5)"
      ],
      "metadata": {
        "id": "t1S9-6vDrTNc"
      },
      "execution_count": null,
      "outputs": []
    },
    {
      "cell_type": "markdown",
      "source": [
        "B. AVERAGE TERMINATE TIME FOR DATA FRAME (trajectory_df_5)"
      ],
      "metadata": {
        "id": "aVWo2yaMo0Ft"
      }
    },
    {
      "cell_type": "code",
      "source": [
        "collision_rate_df_5, collision_rate_5 = calculate_collision_rate(trajectory_df_5)\n",
        "print(\"average terminate time:\", collision_rate_5)"
      ],
      "metadata": {
        "id": "_MIhJcAxsmsh"
      },
      "execution_count": null,
      "outputs": []
    },
    {
      "cell_type": "code",
      "source": [
        "data_table.enable_dataframe_formatter()\n",
        "data_table.DataTable(collision_rate_df_5)"
      ],
      "metadata": {
        "id": "0DlWN46FtBcy"
      },
      "execution_count": null,
      "outputs": []
    },
    {
      "cell_type": "markdown",
      "source": [
        "C. STABILITY OF LEARNING CURVES (trajectory_df_5)"
      ],
      "metadata": {
        "id": "Qf7Fe3K1ps1u"
      }
    },
    {
      "cell_type": "code",
      "source": [
        "learning_curve_result_df_5, variance_5, std_dev_5, final_reward_5 = analyze_learning_curve(trajectory_df_5)\n",
        "print(\"Variance:\", variance_5)\n",
        "print(\"Standard Deviation:\", std_dev_5)\n",
        "print(\"average episodic reward:\", final_reward_5)"
      ],
      "metadata": {
        "id": "yJ7ovpDaokPS"
      },
      "execution_count": null,
      "outputs": []
    },
    {
      "cell_type": "code",
      "source": [
        "data_table.enable_dataframe_formatter()\n",
        "data_table.DataTable(learning_curve_result_df_5)"
      ],
      "metadata": {
        "id": "QQRHEWSIpz5z"
      },
      "execution_count": null,
      "outputs": []
    },
    {
      "cell_type": "markdown",
      "source": [
        "COMBINED DATA FRAMES - BIASED HF LRS CONSERVATIVE"
      ],
      "metadata": {
        "id": "kADsiL9jwfYv"
      }
    },
    {
      "cell_type": "code",
      "source": [
        "cummulative_reward = create_cummulative_reward(\n",
        "        learning_curve_result_df_1,\n",
        "        learning_curve_result_df_2,\n",
        "        learning_curve_result_df_3,\n",
        "        learning_curve_result_df_4,\n",
        "        learning_curve_result_df_5\n",
        "    )\n",
        "\n",
        "data_table.enable_dataframe_formatter()\n",
        "data_table.DataTable(cummulative_reward)"
      ],
      "metadata": {
        "id": "Fz-dCTT6tCS4"
      },
      "execution_count": null,
      "outputs": []
    },
    {
      "cell_type": "markdown",
      "source": [
        "FINAL MISALIGNMENT, AVERAGE TERMINATE TIME & AVERAGE EPISODIC REWARD : BIASED HF LRS CONSERVATIVE"
      ],
      "metadata": {
        "id": "Yl9DkFyLwpEl"
      }
    },
    {
      "cell_type": "code",
      "source": [
        " # Organize the values into lists\n",
        "misalignment_list_1 = [misalignment_1, misalignment_2, misalignment_3, misalignment_4, misalignment_5]\n",
        "average_terminate_time_list_1 = [collision_rate_1, collision_rate_2, collision_rate_3, collision_rate_4, collision_rate_5]\n",
        "average_episodic_reward_list_1 = [final_reward_1, final_reward_2, final_reward_3, final_reward_4, final_reward_5]\n",
        "\n",
        "# Call the function to compute the mean performance values\n",
        "mean_misalignment_1, mean_average_terminate_time_1 , mean_average_episodic_reward_1 = calculate_performance(misalignment_list_1, average_terminate_time_list_1, average_episodic_reward_list_1)\n",
        "\n",
        "# Print the results\n",
        "print(\"HF_D_IDEAL FINAL MISALIGNMENT:\", mean_misalignment_1)\n",
        "print(\"HF_D_IDEAL AVERAGE TERMINATE TIME:\", mean_average_terminate_time_1)\n",
        "print(\"HF_D_IDEAL AVERAGE EPISODIC REWARD:\", mean_average_episodic_reward_1)"
      ],
      "metadata": {
        "id": "UcSS6Ikpwlkw"
      },
      "execution_count": null,
      "outputs": []
    }
  ],
  "metadata": {
    "colab": {
      "provenance": [],
      "authorship_tag": "ABX9TyMemZrflVao4OHAzK8kFvMj",
      "include_colab_link": true
    },
    "kernelspec": {
      "display_name": "Python 3",
      "name": "python3"
    },
    "language_info": {
      "name": "python"
    }
  },
  "nbformat": 4,
  "nbformat_minor": 0
}