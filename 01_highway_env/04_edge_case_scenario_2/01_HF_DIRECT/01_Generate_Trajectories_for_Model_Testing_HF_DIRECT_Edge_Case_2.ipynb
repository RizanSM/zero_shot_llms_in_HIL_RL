{
  "cells": [
    {
      "cell_type": "markdown",
      "metadata": {
        "id": "view-in-github",
        "colab_type": "text"
      },
      "source": [
        "<a href=\"https://colab.research.google.com/github/RizanSM/zero_shot_llms_in_HIL_RL/blob/main/01_highway_env/04_edge_case_scenario_2/01_HF_DIRECT/01_Generate_Trajectories_for_Model_Testing_HF_DIRECT_Edge_Case_2.ipynb\" target=\"_parent\"><img src=\"https://colab.research.google.com/assets/colab-badge.svg\" alt=\"Open In Colab\"/></a>"
      ]
    },
    {
      "cell_type": "code",
      "execution_count": null,
      "metadata": {
        "id": "OuwmGGRJrPVF"
      },
      "outputs": [],
      "source": [
        "# Install the required libraries in your Google Colab environment\n",
        "!pip install stable-baselines3 gymnasium highway-env -q"
      ]
    },
    {
      "cell_type": "code",
      "execution_count": null,
      "metadata": {
        "id": "VZhaXFBUrfBS"
      },
      "outputs": [],
      "source": [
        "# Import the necessary libraries\n",
        "import gymnasium as gym\n",
        "import highway_env\n",
        "import numpy as np\n",
        "import pandas as pd\n",
        "import pickle\n",
        "import os\n",
        "import matplotlib.pyplot as plt"
      ]
    },
    {
      "cell_type": "code",
      "source": [
        "from highway_env.road.road import Road, RoadNetwork, LaneIndex\n",
        "from highway_env.vehicle.controller import ControlledVehicle\n",
        "from highway_env.vehicle.kinematics import Vehicle"
      ],
      "metadata": {
        "id": "cKZwyS30upBU"
      },
      "execution_count": null,
      "outputs": []
    },
    {
      "cell_type": "markdown",
      "source": [
        "# EDGE CASE SCENARIO 2:\n",
        "A custom wrapper for the Highway Environment implementing the follwoing: <br>\n",
        "    a. Ego vehicle: Starts in the middle lane(2) (25 m/s)<br>\n",
        "    b. Set the middle lane(2) as the lane with congestion (slower vehicles).<br>\n",
        "    c. The adjacent lanes are populated with faster vehicles (speeds between 25-30 m/s)."
      ],
      "metadata": {
        "id": "fTuOO42juryC"
      }
    },
    {
      "cell_type": "code",
      "source": [
        "class VehicleGeneratorWrapper(gym.Wrapper):\n",
        "    def __init__(self, env, lane_index, traffic_density, min_speed, max_speed, seed):\n",
        "        \"\"\"\n",
        "        Wrapper for the highway environment to add new vehicles to a specific lane after reset.\n",
        "\n",
        "        Parameters:\n",
        "        env: The highway environment to be wrapped.\n",
        "        lane_index: The index of the lane where vehicles will be added (0 to 3).\n",
        "        traffic_density: Number of vehicles to be added to the lane.\n",
        "        min_speed: Minimum speed (in m/s) of the new vehicles.\n",
        "        max_speed: Maximum speed (in m/s) of the new vehicles.\n",
        "        \"\"\"\n",
        "        super().__init__(env)\n",
        "\n",
        "        self.seed_value = seed\n",
        "        self.seed(self.seed_value)\n",
        "\n",
        "        self.vehicles_count = env.unwrapped.config[\"vehicles_count\"]\n",
        "        self.lane_index = lane_index\n",
        "        self.traffic_density = traffic_density\n",
        "        self.min_speed = min_speed\n",
        "        self.max_speed = max_speed\n",
        "        self.added_vehicles = []  # Store added vehicles' details for display\n",
        "\n",
        "    def seed(self, seed=None):\n",
        "        # Update the seed value if provided\n",
        "        if seed is not None:\n",
        "            self.seed_value = seed\n",
        "\n",
        "        # Seed Python's random module and NumPy's RNG\n",
        "        np.random.seed(self.seed_value)\n",
        "\n",
        "        # Return the seed(s) for consistency\n",
        "        return [self.seed_value]\n",
        "\n",
        "    def reset(self, **kwargs):\n",
        "\n",
        "        self.seed(self.seed_value)\n",
        "\n",
        "        \"\"\"Reset the environment and add new vehicles to the specified lane.\"\"\"\n",
        "        obs, info = super().reset(seed=self.seed_value)\n",
        "        # obs, info = super().reset()\n",
        "        self._display_lane_traffic(before_reset=True)\n",
        "        vehicle = self.env.unwrapped.vehicle\n",
        "        target_lane_id = self.lane_index\n",
        "\n",
        "        # Log environment reset\n",
        "        print(\" Environment reset initiated\")\n",
        "        print(f\" Ego vehicle starts in lane {target_lane_id} at speed 25 m/s\")\n",
        "\n",
        "        # a. Ego vehicle: Starts in the rightmost lane (25 m/s)\n",
        "        self.ego_vehicle = ControlledVehicle(\n",
        "            self.env.unwrapped.road,  # Changed from self.road\n",
        "            vehicle.position,\n",
        "            vehicle.heading,\n",
        "            vehicle.speed,\n",
        "            target_lane_index=target_lane_id,  # Ego Vehicle Starts in lane 3\n",
        "            target_speed=25,  # Initial speed of ego vehicle = 25 m/s\n",
        "        )\n",
        "        self.vehicles = [self.ego_vehicle]\n",
        "\n",
        "        # b. Set the rightmost lane as the lane with congestion (slower vehicles).\n",
        "        self._add_vehicles()\n",
        "\n",
        "        # c. The adjacent lanes are populated with faster vehicles (speeds between 25-30 m/s).\n",
        "        self._set_lane_vehicle_speed([1, 3], 25, 30)  # Adjust speeds in Lane 1 and Lane 3\n",
        "        self._display_lane_traffic(before_reset=False)\n",
        "\n",
        "        # Display all vehicle details after reset\n",
        "        print(\"All Vehicle details:\")\n",
        "        for v in self.env.unwrapped.road.vehicles:\n",
        "            print(f\"  Vehicle ID: {id(v)}, Lane: {v.lane_index[2]}, Position: {v.position}, Speed: {v.speed}\")\n",
        "\n",
        "        return obs, info\n",
        "\n",
        "    def _add_vehicles(self):\n",
        "        \"\"\"Add vehicles to the specified lane in the environment.\"\"\"\n",
        "        self.added_vehicles = []  # Reset the list of added vehicles\n",
        "        for i in range(self.traffic_density):\n",
        "            lane = self.lane_index\n",
        "            position = self._get_safe_position(lane)\n",
        "            if position is None:\n",
        "                print(f\" Could not find a safe position for Vehicle {i + 1} in Lane {lane}\")\n",
        "                continue  # Skip adding this vehicle if no safe position is found\n",
        "\n",
        "            speed = np.random.uniform(self.min_speed, self.max_speed)\n",
        "\n",
        "            # Create and place the new vehicle\n",
        "            new_vehicle = ControlledVehicle.create_random(\n",
        "                self.env.unwrapped.road,\n",
        "                lane_id=lane\n",
        "            )\n",
        "            new_vehicle.position = position  # Update with desired position\n",
        "            new_vehicle.speed = speed\n",
        "            self.env.unwrapped.road.vehicles.append(new_vehicle)\n",
        "\n",
        "            # Store vehicle details for display\n",
        "            self.added_vehicles.append({\n",
        "                \"id\": i + 1,\n",
        "                \"position\": position,\n",
        "                \"speed\": speed})\n",
        "\n",
        "            # DEBUGGING ADDED: Log added vehicle details\n",
        "            print(f\" Vehicle {i + 1} added to Lane {lane}: Position {position}, Speed {speed}\")\n",
        "\n",
        "    def _get_safe_position(self, lane):\n",
        "        \"\"\"Generate a safe longitudinal position for the new vehicle in the specified lane.\"\"\"\n",
        "        existing_vehicles = [v for v in self.env.unwrapped.road.vehicles if v.lane_index[2] == lane]\n",
        "        existing_positions = [v.position[0] if isinstance(v.position, (list, np.ndarray)) else v.position for v in existing_vehicles]\n",
        "\n",
        "        if not existing_positions:\n",
        "            return 0  # Start of the lane if no vehicles exist\n",
        "\n",
        "        max_retries = 100  # Maximum number of attempts to find a safe position\n",
        "        for _ in range(max_retries):\n",
        "            position = np.random.uniform(0, 500)  # Arbitrary range for position\n",
        "            if all(abs(position - p) > 8 for p in existing_positions):  # Safe gap = 8\n",
        "                return position\n",
        "\n",
        "        # print(\"No valid position found after max retries\")\n",
        "        return None  # If no valid position is found after max_retries\n",
        "\n",
        "    def _set_lane_vehicle_speed(self, lane_indices, min_speed_adj_lane, max_speed_adj_lane):\n",
        "        \"\"\"\n",
        "        Set the speed of vehicles in specified lanes to be within the given range.\n",
        "\n",
        "        Parameters:\n",
        "        lane_indices: List of lane indices where vehicle speeds will be modified.\n",
        "        min_speed: Minimum speed (in m/s) for vehicles in the specified lanes.\n",
        "        max_speed: Maximum speed (in m/s) for vehicles in the specified lanes.\n",
        "        \"\"\"\n",
        "        for lane in lane_indices:\n",
        "            lane_vehicles = [v for v in self.env.unwrapped.road.vehicles if v.lane_index[2] == lane]\n",
        "            for vehicle in lane_vehicles:\n",
        "                vehicle.speed = np.random.uniform(min_speed_adj_lane, max_speed_adj_lane)\n",
        "\n",
        "                # Log speed adjustments for vehicles\n",
        "                print(f\" Vehicle in Lane {lane} updated to Speed: {vehicle.speed:.2f} m/s\")\n",
        "            print(\"\")\n",
        "\n",
        "    def _display_lane_traffic(self, before_reset):\n",
        "        \"\"\"Display the number of vehicles in the specified lane and overall vehicle count.\"\"\"\n",
        "        lane_vehicles = [v for v in self.env.unwrapped.road.vehicles if v.lane_index[2] == self.lane_index]\n",
        "        total_vehicles = len(self.env.unwrapped.road.vehicles)\n",
        "\n",
        "\n",
        "        if before_reset:\n",
        "            # print(f\"Lane {self.lane_index} Vehicle Count before reset: {len(lane_vehicles)}\")\n",
        "            print(f\"Total Vehicle Count before reset: {self.vehicles_count}\")\n",
        "        else:\n",
        "            print(f\"After reset: Number of vehicles added = {len(self.added_vehicles)}\")\n",
        "            for vehicle in self.added_vehicles:\n",
        "                print(f\"Vehicle added to Lane {self.lane_index}: Vehicle {vehicle['id']}: Position {vehicle['position']:.0f}, Speed {vehicle['speed']:.0f} m/s in Lane {self.lane_index}\")\n",
        "            #print(f\"Lane {self.lane_index} Vehicle Count after reset: {len(lane_vehicles)}\")\n",
        "            print(f\"Total Vehicle Count after reset: {total_vehicles}\")\n",
        "            print(\"\")\n",
        "\n",
        "    def log_episode_info(self, episode_info):\n",
        "        \"\"\"Log episode-specific information in the specified format.\"\"\"\n",
        "        for episode, info in episode_info.items():\n",
        "            print(f\"Episode {episode} Info: {info}\")\n",
        "        print(\"\")  # Insert a blank line for better visibility"
      ],
      "metadata": {
        "id": "C2ta6JlOu1KB"
      },
      "execution_count": null,
      "outputs": []
    },
    {
      "cell_type": "code",
      "source": [
        "# THE ENVIRONMENT\n",
        "# Step 1.1: Choose the Environment\n",
        "# Initialize the environment.\n",
        "env = gym.make(\"highway-v0\")\n",
        "env.unwrapped.config[\"vehicles_count\"] = 50\n",
        "env.unwrapped.config[\"initial_lane_id\"] = 2\n",
        "# Wrap the environment with different seed values\n",
        "wrapped_env_1 = VehicleGeneratorWrapper(env, lane_index=2, traffic_density=10, min_speed=15, max_speed=20, seed=2)\n",
        "wrapped_env_2 = VehicleGeneratorWrapper(env, lane_index=2, traffic_density=10, min_speed=15, max_speed=20, seed=10)\n",
        "wrapped_env_3 = VehicleGeneratorWrapper(env, lane_index=2, traffic_density=10, min_speed=15, max_speed=20, seed=6)\n",
        "wrapped_env_4 = VehicleGeneratorWrapper(env, lane_index=2, traffic_density=10, min_speed=15, max_speed=20, seed=20)\n",
        "wrapped_env_5 = VehicleGeneratorWrapper(env, lane_index=2, traffic_density=10, min_speed=15, max_speed=20, seed=34)"
      ],
      "metadata": {
        "id": "5ZFkGvV7O2Ea"
      },
      "execution_count": null,
      "outputs": []
    },
    {
      "cell_type": "markdown",
      "metadata": {
        "id": "8eJ7IUv5j7iS"
      },
      "source": [
        "Trajectory Collection with Additional information (Collision Flag and Lane Index)"
      ]
    },
    {
      "cell_type": "code",
      "source": [
        "# TRAJECTORY COLLECTION WITH ADDTIONNAL INFORMATION\n",
        "# Initialize a list to store trajectory data\n",
        "trajectories = []\n",
        "\n",
        "# FUNCTION TO COLLECT TRAJECTORY DATA (state-action-reward transitions).\n",
        "\n",
        "def collect_trajectory_data(env, model, num_episodes):\n",
        "    \"\"\"\n",
        "    Collect trajectory data for a number of episodes.\n",
        "    Each trajectory contains state-action-reward sequences.\n",
        "    \"\"\"\n",
        "    trajectory_data = []\n",
        "\n",
        "    for episode in range(num_episodes):\n",
        "        state, _ = env.reset()  # Reset the environment at the start of each episode              #  change environment name here\n",
        "        done = False\n",
        "        episode_data = []\n",
        "\n",
        "        while not done:\n",
        "            # Get action from the trained PPO model\n",
        "            action, _states = model.predict(state, deterministic = True)                                       # change model name here\n",
        "\n",
        "            # Take the action and get next state and reward\n",
        "            next_state, reward, terminated, truncated, info = env.step(action)                    #  change environment name here\n",
        "            done = terminated or truncated\n",
        "            # Extract lane index and collision flag\n",
        "            lane_index = int(env.unwrapped.vehicle.lane_index[2])\n",
        "            collision_flag = int(info.get('crashed', 0))\n",
        "\n",
        "            # Store the trajectory: (state, action, reward, next_state)\n",
        "            episode_data.append({\n",
        "                \"state\": state,\n",
        "                \"action\": action,\n",
        "                \"reward\": reward,\n",
        "                \"next_state\": next_state,\n",
        "                \"lane_indices\": lane_index,\n",
        "                \"collision_flags\": collision_flag\n",
        "            })\n",
        "\n",
        "            # Update the state for the next iteration\n",
        "            state = next_state\n",
        "\n",
        "        # Add the episode data to the overall trajectory list\n",
        "        trajectory_data.append(episode_data)\n",
        "\n",
        "    return trajectory_data"
      ],
      "metadata": {
        "id": "WCoPWduUICcu"
      },
      "execution_count": null,
      "outputs": []
    },
    {
      "cell_type": "code",
      "execution_count": null,
      "metadata": {
        "id": "SsiZnt73xMQd"
      },
      "outputs": [],
      "source": [
        "# FUNCTION TO PREPROCESS TRAJECTORY DATA\n",
        "def preprocess_trajectory_data(trajectory_data):\n",
        "    \"\"\"\n",
        "    Preprocesses the trajectory data into a structured format for further analysis.\n",
        "    Returns a DataFrame with columns: episode, time_step, state, action, reward, next_state, speed, and reward_details.\n",
        "    \"\"\"\n",
        "    processed_data = []\n",
        "\n",
        "    for episode_num, episode_data in enumerate(trajectory_data):\n",
        "        for time_step, step in enumerate(episode_data):\n",
        "            # Flatten the state and next_state for easy interpretation (if they are multi-dimensional)\n",
        "            state = np.array(step['state']).flatten()  # Flatten the state vector (if multi-dimensional)\n",
        "            next_state = np.array(step['next_state']).flatten()  # Flatten the next_state vector\n",
        "\n",
        "            collision_flag = step['collision_flags']\n",
        "            lane_index = step['lane_indices']\n",
        "\n",
        "            # Append the processed data for this step\n",
        "            processed_data.append({\n",
        "                \"episode\": episode_num,\n",
        "                \"time_step\": time_step,\n",
        "                \"state\": state,\n",
        "                \"action\": step['action'],\n",
        "                \"reward\": step['reward'],\n",
        "                \"next_state\": next_state,\n",
        "                \"collision_flag\": collision_flag,\n",
        "                \"lane_index\": lane_index\n",
        "            })\n",
        "\n",
        "    # Convert the list of processed data into a DataFrame\n",
        "    df = pd.DataFrame(processed_data)\n",
        "    return df"
      ]
    },
    {
      "cell_type": "code",
      "execution_count": null,
      "metadata": {
        "id": "oilpd3dOz8r_"
      },
      "outputs": [],
      "source": [
        "from stable_baselines3 import PPO\n",
        "from google.colab import drive\n",
        "from google.colab import data_table\n",
        "\n",
        "# Mount Google Drive\n",
        "drive.mount('/content/drive')"
      ]
    },
    {
      "cell_type": "markdown",
      "source": [
        "Model Loading"
      ],
      "metadata": {
        "id": "j9STNF32vwXS"
      }
    },
    {
      "cell_type": "code",
      "execution_count": null,
      "metadata": {
        "id": "fnHpE3hDaNom"
      },
      "outputs": [],
      "source": [
        "# Step A.6.2: Load the all the saved PPO model\n",
        "model = PPO.load('/content/drive/MyDrive/data_rp1/1_trained_models/1_ppo_highway_hf_direct_ideal')        # Update directory location 1"
      ]
    },
    {
      "cell_type": "markdown",
      "metadata": {
        "id": "0gBuhnIvc1Vj"
      },
      "source": [
        "1. GENERATING TRAJECTORIES(HF-D-IDEAL-EDGE-CASE-2)\n",
        "\n"
      ]
    },
    {
      "cell_type": "markdown",
      "source": [
        "First HF-D-IDEAL-EDGE-CASE-2 data frame"
      ],
      "metadata": {
        "id": "w82HwtdBjZzQ"
      }
    },
    {
      "cell_type": "code",
      "execution_count": null,
      "metadata": {
        "id": "jECoqszObMiP"
      },
      "outputs": [],
      "source": [
        "# Collect data for 100 episodes\n",
        "trajectory_data_1 = collect_trajectory_data(wrapped_env_1, model, num_episodes=100)        # change environment and model name"
      ]
    },
    {
      "cell_type": "code",
      "execution_count": null,
      "metadata": {
        "id": "Rm_Mr4OVbrdX"
      },
      "outputs": [],
      "source": [
        "# Preprocess the trajectory data\n",
        "trajectory_df_1 = preprocess_trajectory_data(trajectory_data_1)"
      ]
    },
    {
      "cell_type": "code",
      "execution_count": null,
      "metadata": {
        "id": "IljiIUvw8ybo"
      },
      "outputs": [],
      "source": [
        "data_table.enable_dataframe_formatter()\n",
        "data_table.DataTable(trajectory_df_1)"
      ]
    },
    {
      "cell_type": "code",
      "source": [
        "# Save the dataframe as a pickle file\n",
        "trajectory_df_1.to_pickle('/content/drive/MyDrive/data_rp1/3_test_trajectories/10_edge_case_2/1_hf_d_ideal_edge_2/1_trajectory_hf_d_ideal_edge_2_df.pkl')     # change data frame name      # Update directory location 2"
      ],
      "metadata": {
        "id": "ZSDPYSWBbRWG"
      },
      "execution_count": null,
      "outputs": []
    },
    {
      "cell_type": "markdown",
      "source": [
        "Second HF-D-IDEAL-EDGE-CASE-2 data frame"
      ],
      "metadata": {
        "id": "8ojDhZ9wjdn9"
      }
    },
    {
      "cell_type": "code",
      "execution_count": null,
      "metadata": {
        "id": "FS4QFChmikAl"
      },
      "outputs": [],
      "source": [
        "# Collect data for 100 episodes\n",
        "trajectory_data_2 = collect_trajectory_data(wrapped_env_2, model, num_episodes=100)        # change environment and model name"
      ]
    },
    {
      "cell_type": "code",
      "execution_count": null,
      "metadata": {
        "id": "kHCHkw9Ci28I"
      },
      "outputs": [],
      "source": [
        "# Preprocess the trajectory data\n",
        "trajectory_df_2 = preprocess_trajectory_data(trajectory_data_2)"
      ]
    },
    {
      "cell_type": "code",
      "execution_count": null,
      "metadata": {
        "id": "tANvkMcKjNy0"
      },
      "outputs": [],
      "source": [
        "data_table.enable_dataframe_formatter()\n",
        "data_table.DataTable(trajectory_df_2)"
      ]
    },
    {
      "cell_type": "code",
      "source": [
        "# Save the dataframe as a pickle file\n",
        "trajectory_df_2.to_pickle('/content/drive/MyDrive/data_rp1/3_test_trajectories/10_edge_case_2/1_hf_d_ideal_edge_2/2_trajectory_hf_d_ideal_edge_2_df.pkl')     # change data frame name      # Update directory location 3"
      ],
      "metadata": {
        "id": "6DSipL40kQ1d"
      },
      "execution_count": null,
      "outputs": []
    },
    {
      "cell_type": "markdown",
      "source": [
        "Thrid HF-D-IDEAL-EDGE-CASE-3 data frame"
      ],
      "metadata": {
        "id": "DMoD5mZyjknf"
      }
    },
    {
      "cell_type": "code",
      "execution_count": null,
      "metadata": {
        "id": "wMRQhA5kikvs"
      },
      "outputs": [],
      "source": [
        "# Collect data for 100 episodes\n",
        "trajectory_data_3 = collect_trajectory_data(wrapped_env_3, model, num_episodes=100)        # change environment and model name"
      ]
    },
    {
      "cell_type": "code",
      "execution_count": null,
      "metadata": {
        "id": "Mv-9QkG6i3V9"
      },
      "outputs": [],
      "source": [
        "# Preprocess the trajectory data\n",
        "trajectory_df_3 = preprocess_trajectory_data(trajectory_data_3)"
      ]
    },
    {
      "cell_type": "code",
      "execution_count": null,
      "metadata": {
        "id": "wUt78J08jOHg"
      },
      "outputs": [],
      "source": [
        "data_table.enable_dataframe_formatter()\n",
        "data_table.DataTable(trajectory_df_3)"
      ]
    },
    {
      "cell_type": "code",
      "source": [
        "# Save the dataframe as a pickle file\n",
        "trajectory_df_3.to_pickle('/content/drive/MyDrive/data_rp1/3_test_trajectories/10_edge_case_2/1_hf_d_ideal_edge_2/3_trajectory_hf_d_ideal_edge_2_df.pkl')      # change data frame name     # Update directory location 4"
      ],
      "metadata": {
        "id": "LYdwg3BTkQ9T"
      },
      "execution_count": null,
      "outputs": []
    },
    {
      "cell_type": "markdown",
      "source": [
        "Fourth HF-D-IDEAL-EDGE-CASE-2 data frame"
      ],
      "metadata": {
        "id": "fG_epsiTjo_L"
      }
    },
    {
      "cell_type": "code",
      "execution_count": null,
      "metadata": {
        "id": "MPX0X_XpirCc"
      },
      "outputs": [],
      "source": [
        "# Collect data for 100 episodes\n",
        "trajectory_data_4 = collect_trajectory_data(wrapped_env_4, model, num_episodes=100)        # change environment and model name"
      ]
    },
    {
      "cell_type": "code",
      "execution_count": null,
      "metadata": {
        "id": "ajnFXAcUi3gd"
      },
      "outputs": [],
      "source": [
        "# Preprocess the trajectory data\n",
        "trajectory_df_4 = preprocess_trajectory_data(trajectory_data_4)"
      ]
    },
    {
      "cell_type": "code",
      "execution_count": null,
      "metadata": {
        "id": "nvBacEtVjOQS"
      },
      "outputs": [],
      "source": [
        "data_table.enable_dataframe_formatter()\n",
        "data_table.DataTable(trajectory_df_4)"
      ]
    },
    {
      "cell_type": "code",
      "source": [
        "# Save the dataframe as a pickle file\n",
        "trajectory_df_4.to_pickle('/content/drive/MyDrive/data_rp1/3_test_trajectories/10_edge_case_2/1_hf_d_ideal_edge_2/4_trajectory_hf_d_ideal_edge_2_df.pkl')     # change data frame name       # Update directory location 5"
      ],
      "metadata": {
        "id": "pc2hQmbfkRFJ"
      },
      "execution_count": null,
      "outputs": []
    },
    {
      "cell_type": "markdown",
      "source": [
        "Fifth HF-D-IDEAL-EDGE-CASE-2 data frame"
      ],
      "metadata": {
        "id": "p2x7__mJjz5t"
      }
    },
    {
      "cell_type": "code",
      "execution_count": null,
      "metadata": {
        "id": "BeHbSRqwis2e"
      },
      "outputs": [],
      "source": [
        "# Collect data for 100 episodes\n",
        "trajectory_data_5 = collect_trajectory_data(wrapped_env_5, model, num_episodes=100)        # change environment and model name"
      ]
    },
    {
      "cell_type": "code",
      "execution_count": null,
      "metadata": {
        "id": "AKGN9kMzi3pM"
      },
      "outputs": [],
      "source": [
        "# Preprocess the trajectory data\n",
        "trajectory_df_5 = preprocess_trajectory_data(trajectory_data_5)"
      ]
    },
    {
      "cell_type": "code",
      "execution_count": null,
      "metadata": {
        "id": "DPPRDJcUjOYW"
      },
      "outputs": [],
      "source": [
        "data_table.enable_dataframe_formatter()\n",
        "data_table.DataTable(trajectory_df_5)"
      ]
    },
    {
      "cell_type": "code",
      "source": [
        "# Save the dataframe as a pickle file\n",
        "trajectory_df_5.to_pickle('/content/drive/MyDrive/data_rp1/3_test_trajectories/10_edge_case_2/1_hf_d_ideal_edge_2/5_trajectory_hf_d_ideal_edge_2_df.pkl')      # change data frame name      # Update directory location 6"
      ],
      "metadata": {
        "id": "YhYtt5iYkRUO"
      },
      "execution_count": null,
      "outputs": []
    }
  ],
  "metadata": {
    "colab": {
      "provenance": [],
      "authorship_tag": "ABX9TyNO/VSpDUHz4950pmIbqOnO",
      "include_colab_link": true
    },
    "kernelspec": {
      "display_name": "Python 3",
      "name": "python3"
    },
    "language_info": {
      "name": "python"
    }
  },
  "nbformat": 4,
  "nbformat_minor": 0
}